{
 "cells": [
  {
   "cell_type": "markdown",
   "id": "a08de887-d699-42b4-8fdb-7817eca58df4",
   "metadata": {},
   "source": [
    "# Week 2 Exercise 2\n",
    "## Intro to Database Connections, pandas, and Feature Engineering"
   ]
  },
  {
   "cell_type": "code",
   "execution_count": 3,
   "id": "097c7d22-a000-4197-96f0-3ae59c3cb361",
   "metadata": {},
   "outputs": [],
   "source": [
    "# Import needed modules\n",
    "import pandas as pd\n",
    "import sqlite3 as sql"
   ]
  },
  {
   "cell_type": "markdown",
   "id": "1c32a200-5897-4f1b-b80f-632ab086c286",
   "metadata": {},
   "source": [
    "## SQL --> Dataframe"
   ]
  },
  {
   "cell_type": "code",
   "execution_count": 4,
   "id": "692fd65f-a86b-42e4-9b70-aeaf27321a04",
   "metadata": {},
   "outputs": [],
   "source": [
    "# Connect to database (need the current working directory for systems that treat the local path as virtual)\n",
    "import os\n",
    "con = sql.connect(os.path.join(os.getcwd(), \"synthea_and_county_ga.db\"))\n",
    "\n",
    "\n"
   ]
  },
  {
   "cell_type": "code",
   "execution_count": 6,
   "id": "0632680c-cb0d-487e-8335-4007d2e62908",
   "metadata": {},
   "outputs": [],
   "source": [
    "# Execute a query and store the results in a \"dataframe\"\n",
    "df = pd.read_sql_query(\"\"\"\n",
    "    select fips, state_abbr, county_name, pop_est_2020, ed_visits\n",
    "    from us_counties_ahrf_2021\n",
    "    where state_abbr = 'GA'\n",
    "\n",
    "\"\"\", con)"
   ]
  },
  {
   "cell_type": "code",
   "execution_count": 7,
   "id": "7ddebb8f-f2a5-457f-8f2d-547ea703dc8b",
   "metadata": {},
   "outputs": [],
   "source": [
    "# Quick settings\n",
    "pd.options.display.max_columns = None\n",
    "df = df.rename(columns=str.lower)\n",
    "df = df.set_index('fips')"
   ]
  },
  {
   "cell_type": "markdown",
   "id": "8685c569-1138-4a75-ad68-68adbda0df0d",
   "metadata": {},
   "source": [
    "## What's in the dataframe?"
   ]
  },
  {
   "cell_type": "code",
   "execution_count": 8,
   "id": "d92e9797-b79d-41e5-b352-1853a497c029",
   "metadata": {},
   "outputs": [
    {
     "data": {
      "text/plain": [
       "(159, 4)"
      ]
     },
     "execution_count": 8,
     "metadata": {},
     "output_type": "execute_result"
    }
   ],
   "source": [
    "df.shape"
   ]
  },
  {
   "cell_type": "code",
   "execution_count": 9,
   "id": "20d4c971-41c7-43f8-86d0-e4268dd6febf",
   "metadata": {},
   "outputs": [
    {
     "name": "stdout",
     "output_type": "stream",
     "text": [
      "<class 'pandas.core.frame.DataFrame'>\n",
      "Int64Index: 159 entries, 13001 to 13321\n",
      "Data columns (total 4 columns):\n",
      " #   Column        Non-Null Count  Dtype \n",
      "---  ------        --------------  ----- \n",
      " 0   state_abbr    159 non-null    object\n",
      " 1   county_name   159 non-null    object\n",
      " 2   pop_est_2020  159 non-null    int64 \n",
      " 3   ed_visits     159 non-null    int64 \n",
      "dtypes: int64(2), object(2)\n",
      "memory usage: 6.2+ KB\n"
     ]
    }
   ],
   "source": [
    "df.info()"
   ]
  },
  {
   "cell_type": "code",
   "execution_count": 10,
   "id": "4d54d344-4297-45ff-b444-8069e1e8e591",
   "metadata": {},
   "outputs": [
    {
     "data": {
      "text/html": [
       "<div>\n",
       "<style scoped>\n",
       "    .dataframe tbody tr th:only-of-type {\n",
       "        vertical-align: middle;\n",
       "    }\n",
       "\n",
       "    .dataframe tbody tr th {\n",
       "        vertical-align: top;\n",
       "    }\n",
       "\n",
       "    .dataframe thead th {\n",
       "        text-align: right;\n",
       "    }\n",
       "</style>\n",
       "<table border=\"1\" class=\"dataframe\">\n",
       "  <thead>\n",
       "    <tr style=\"text-align: right;\">\n",
       "      <th></th>\n",
       "      <th>state_abbr</th>\n",
       "      <th>county_name</th>\n",
       "      <th>pop_est_2020</th>\n",
       "      <th>ed_visits</th>\n",
       "    </tr>\n",
       "    <tr>\n",
       "      <th>fips</th>\n",
       "      <th></th>\n",
       "      <th></th>\n",
       "      <th></th>\n",
       "      <th></th>\n",
       "    </tr>\n",
       "  </thead>\n",
       "  <tbody>\n",
       "    <tr>\n",
       "      <th>13001</th>\n",
       "      <td>GA</td>\n",
       "      <td>Appling</td>\n",
       "      <td>18325</td>\n",
       "      <td>7740</td>\n",
       "    </tr>\n",
       "    <tr>\n",
       "      <th>13003</th>\n",
       "      <td>GA</td>\n",
       "      <td>Atkinson</td>\n",
       "      <td>8393</td>\n",
       "      <td>0</td>\n",
       "    </tr>\n",
       "    <tr>\n",
       "      <th>13005</th>\n",
       "      <td>GA</td>\n",
       "      <td>Bacon</td>\n",
       "      <td>11036</td>\n",
       "      <td>3759</td>\n",
       "    </tr>\n",
       "    <tr>\n",
       "      <th>13007</th>\n",
       "      <td>GA</td>\n",
       "      <td>Baker</td>\n",
       "      <td>2971</td>\n",
       "      <td>0</td>\n",
       "    </tr>\n",
       "    <tr>\n",
       "      <th>13009</th>\n",
       "      <td>GA</td>\n",
       "      <td>Baldwin</td>\n",
       "      <td>45099</td>\n",
       "      <td>30686</td>\n",
       "    </tr>\n",
       "    <tr>\n",
       "      <th>...</th>\n",
       "      <td>...</td>\n",
       "      <td>...</td>\n",
       "      <td>...</td>\n",
       "      <td>...</td>\n",
       "    </tr>\n",
       "    <tr>\n",
       "      <th>13313</th>\n",
       "      <td>GA</td>\n",
       "      <td>Whitfield</td>\n",
       "      <td>103837</td>\n",
       "      <td>50008</td>\n",
       "    </tr>\n",
       "    <tr>\n",
       "      <th>13315</th>\n",
       "      <td>GA</td>\n",
       "      <td>Wilcox</td>\n",
       "      <td>8502</td>\n",
       "      <td>0</td>\n",
       "    </tr>\n",
       "    <tr>\n",
       "      <th>13317</th>\n",
       "      <td>GA</td>\n",
       "      <td>Wilkes</td>\n",
       "      <td>9694</td>\n",
       "      <td>2888</td>\n",
       "    </tr>\n",
       "    <tr>\n",
       "      <th>13319</th>\n",
       "      <td>GA</td>\n",
       "      <td>Wilkinson</td>\n",
       "      <td>8812</td>\n",
       "      <td>0</td>\n",
       "    </tr>\n",
       "    <tr>\n",
       "      <th>13321</th>\n",
       "      <td>GA</td>\n",
       "      <td>Worth</td>\n",
       "      <td>19972</td>\n",
       "      <td>3352</td>\n",
       "    </tr>\n",
       "  </tbody>\n",
       "</table>\n",
       "<p>159 rows × 4 columns</p>\n",
       "</div>"
      ],
      "text/plain": [
       "      state_abbr county_name  pop_est_2020  ed_visits\n",
       "fips                                                 \n",
       "13001         GA     Appling         18325       7740\n",
       "13003         GA    Atkinson          8393          0\n",
       "13005         GA       Bacon         11036       3759\n",
       "13007         GA       Baker          2971          0\n",
       "13009         GA     Baldwin         45099      30686\n",
       "...          ...         ...           ...        ...\n",
       "13313         GA   Whitfield        103837      50008\n",
       "13315         GA      Wilcox          8502          0\n",
       "13317         GA      Wilkes          9694       2888\n",
       "13319         GA   Wilkinson          8812          0\n",
       "13321         GA       Worth         19972       3352\n",
       "\n",
       "[159 rows x 4 columns]"
      ]
     },
     "execution_count": 10,
     "metadata": {},
     "output_type": "execute_result"
    }
   ],
   "source": [
    "# Display the dataframe\n",
    "df"
   ]
  },
  {
   "cell_type": "markdown",
   "id": "be6272b0-cac2-441c-83cf-78085b1e5579",
   "metadata": {},
   "source": [
    "## Create two new features"
   ]
  },
  {
   "cell_type": "code",
   "execution_count": 11,
   "id": "f9a70dd0-a2d0-4aa9-b2b1-9827f4c3bbfb",
   "metadata": {},
   "outputs": [],
   "source": [
    "# First example of feature engineering: Ratio\n",
    "df['ed_visits_per_capita'] = df['ed_visits'] / df['pop_est_2020']"
   ]
  },
  {
   "cell_type": "code",
   "execution_count": 12,
   "id": "1b17b891-2f5d-4438-b014-193d30bef8ac",
   "metadata": {},
   "outputs": [],
   "source": [
    "# Round to 2 decimal places\n",
    "df['ed_visits_per_capita'] = df['ed_visits_per_capita'].round(2)"
   ]
  },
  {
   "cell_type": "code",
   "execution_count": 13,
   "id": "c626e62f-ff1d-4bd9-be12-ee20cb641784",
   "metadata": {},
   "outputs": [],
   "source": [
    "# Which counties are 1 standard deviation above the mean?\n",
    "df['ed_visits_high'] = False\n",
    "df.loc[df['ed_visits_per_capita'] > df['ed_visits_per_capita'].mean() + df['ed_visits_per_capita'].std(), 'ed_visits_high'] = True"
   ]
  },
  {
   "cell_type": "code",
   "execution_count": 14,
   "id": "57e40322-56ca-4c43-80f9-f035d63f839a",
   "metadata": {},
   "outputs": [
    {
     "data": {
      "text/html": [
       "<div>\n",
       "<style scoped>\n",
       "    .dataframe tbody tr th:only-of-type {\n",
       "        vertical-align: middle;\n",
       "    }\n",
       "\n",
       "    .dataframe tbody tr th {\n",
       "        vertical-align: top;\n",
       "    }\n",
       "\n",
       "    .dataframe thead th {\n",
       "        text-align: right;\n",
       "    }\n",
       "</style>\n",
       "<table border=\"1\" class=\"dataframe\">\n",
       "  <thead>\n",
       "    <tr style=\"text-align: right;\">\n",
       "      <th></th>\n",
       "      <th>state_abbr</th>\n",
       "      <th>county_name</th>\n",
       "      <th>pop_est_2020</th>\n",
       "      <th>ed_visits</th>\n",
       "      <th>ed_visits_per_capita</th>\n",
       "      <th>ed_visits_high</th>\n",
       "    </tr>\n",
       "    <tr>\n",
       "      <th>fips</th>\n",
       "      <th></th>\n",
       "      <th></th>\n",
       "      <th></th>\n",
       "      <th></th>\n",
       "      <th></th>\n",
       "      <th></th>\n",
       "    </tr>\n",
       "  </thead>\n",
       "  <tbody>\n",
       "    <tr>\n",
       "      <th>13001</th>\n",
       "      <td>GA</td>\n",
       "      <td>Appling</td>\n",
       "      <td>18325</td>\n",
       "      <td>7740</td>\n",
       "      <td>0.42</td>\n",
       "      <td>False</td>\n",
       "    </tr>\n",
       "    <tr>\n",
       "      <th>13003</th>\n",
       "      <td>GA</td>\n",
       "      <td>Atkinson</td>\n",
       "      <td>8393</td>\n",
       "      <td>0</td>\n",
       "      <td>0.00</td>\n",
       "      <td>False</td>\n",
       "    </tr>\n",
       "    <tr>\n",
       "      <th>13005</th>\n",
       "      <td>GA</td>\n",
       "      <td>Bacon</td>\n",
       "      <td>11036</td>\n",
       "      <td>3759</td>\n",
       "      <td>0.34</td>\n",
       "      <td>False</td>\n",
       "    </tr>\n",
       "    <tr>\n",
       "      <th>13007</th>\n",
       "      <td>GA</td>\n",
       "      <td>Baker</td>\n",
       "      <td>2971</td>\n",
       "      <td>0</td>\n",
       "      <td>0.00</td>\n",
       "      <td>False</td>\n",
       "    </tr>\n",
       "    <tr>\n",
       "      <th>13009</th>\n",
       "      <td>GA</td>\n",
       "      <td>Baldwin</td>\n",
       "      <td>45099</td>\n",
       "      <td>30686</td>\n",
       "      <td>0.68</td>\n",
       "      <td>False</td>\n",
       "    </tr>\n",
       "    <tr>\n",
       "      <th>...</th>\n",
       "      <td>...</td>\n",
       "      <td>...</td>\n",
       "      <td>...</td>\n",
       "      <td>...</td>\n",
       "      <td>...</td>\n",
       "      <td>...</td>\n",
       "    </tr>\n",
       "    <tr>\n",
       "      <th>13313</th>\n",
       "      <td>GA</td>\n",
       "      <td>Whitfield</td>\n",
       "      <td>103837</td>\n",
       "      <td>50008</td>\n",
       "      <td>0.48</td>\n",
       "      <td>False</td>\n",
       "    </tr>\n",
       "    <tr>\n",
       "      <th>13315</th>\n",
       "      <td>GA</td>\n",
       "      <td>Wilcox</td>\n",
       "      <td>8502</td>\n",
       "      <td>0</td>\n",
       "      <td>0.00</td>\n",
       "      <td>False</td>\n",
       "    </tr>\n",
       "    <tr>\n",
       "      <th>13317</th>\n",
       "      <td>GA</td>\n",
       "      <td>Wilkes</td>\n",
       "      <td>9694</td>\n",
       "      <td>2888</td>\n",
       "      <td>0.30</td>\n",
       "      <td>False</td>\n",
       "    </tr>\n",
       "    <tr>\n",
       "      <th>13319</th>\n",
       "      <td>GA</td>\n",
       "      <td>Wilkinson</td>\n",
       "      <td>8812</td>\n",
       "      <td>0</td>\n",
       "      <td>0.00</td>\n",
       "      <td>False</td>\n",
       "    </tr>\n",
       "    <tr>\n",
       "      <th>13321</th>\n",
       "      <td>GA</td>\n",
       "      <td>Worth</td>\n",
       "      <td>19972</td>\n",
       "      <td>3352</td>\n",
       "      <td>0.17</td>\n",
       "      <td>False</td>\n",
       "    </tr>\n",
       "  </tbody>\n",
       "</table>\n",
       "<p>159 rows × 6 columns</p>\n",
       "</div>"
      ],
      "text/plain": [
       "      state_abbr county_name  pop_est_2020  ed_visits  ed_visits_per_capita  \\\n",
       "fips                                                                          \n",
       "13001         GA     Appling         18325       7740                  0.42   \n",
       "13003         GA    Atkinson          8393          0                  0.00   \n",
       "13005         GA       Bacon         11036       3759                  0.34   \n",
       "13007         GA       Baker          2971          0                  0.00   \n",
       "13009         GA     Baldwin         45099      30686                  0.68   \n",
       "...          ...         ...           ...        ...                   ...   \n",
       "13313         GA   Whitfield        103837      50008                  0.48   \n",
       "13315         GA      Wilcox          8502          0                  0.00   \n",
       "13317         GA      Wilkes          9694       2888                  0.30   \n",
       "13319         GA   Wilkinson          8812          0                  0.00   \n",
       "13321         GA       Worth         19972       3352                  0.17   \n",
       "\n",
       "       ed_visits_high  \n",
       "fips                   \n",
       "13001           False  \n",
       "13003           False  \n",
       "13005           False  \n",
       "13007           False  \n",
       "13009           False  \n",
       "...               ...  \n",
       "13313           False  \n",
       "13315           False  \n",
       "13317           False  \n",
       "13319           False  \n",
       "13321           False  \n",
       "\n",
       "[159 rows x 6 columns]"
      ]
     },
     "execution_count": 14,
     "metadata": {},
     "output_type": "execute_result"
    }
   ],
   "source": [
    "df"
   ]
  },
  {
   "cell_type": "markdown",
   "id": "1e1881b5-eb63-4889-ba50-1283ccee919d",
   "metadata": {},
   "source": [
    "## Output to CSV (for use in Tableau)"
   ]
  },
  {
   "cell_type": "code",
   "execution_count": 12,
   "id": "288c940e-1f9b-4cfe-aa76-68306362e44d",
   "metadata": {},
   "outputs": [],
   "source": [
    "# Output to a CSV file (for use in Tableau)\n",
    "df.to_csv('w2e2_ed_visits_georgia_counties.csv')"
   ]
  },
  {
   "cell_type": "code",
   "execution_count": null,
   "id": "3db5e80c",
   "metadata": {},
   "outputs": [],
   "source": []
  }
 ],
 "metadata": {
  "kernelspec": {
   "display_name": "Python 3 (ipykernel)",
   "language": "python",
   "name": "python3"
  },
  "language_info": {
   "codemirror_mode": {
    "name": "ipython",
    "version": 3
   },
   "file_extension": ".py",
   "mimetype": "text/x-python",
   "name": "python",
   "nbconvert_exporter": "python",
   "pygments_lexer": "ipython3",
   "version": "3.8.10"
  }
 },
 "nbformat": 4,
 "nbformat_minor": 5
}
