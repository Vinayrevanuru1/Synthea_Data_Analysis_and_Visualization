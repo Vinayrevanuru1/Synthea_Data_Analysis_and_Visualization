{
 "cells": [
  {
   "cell_type": "markdown",
   "id": "4ee1919b-a4f7-417c-b3f2-4adc244bab1c",
   "metadata": {},
   "source": [
    "# Week 5 Exercise 2: Patient Cost Forecast\n",
    "## Approach: Time-series forecast, one-step forward"
   ]
  },
  {
   "cell_type": "code",
   "execution_count": 1,
   "id": "21e611ba-2749-4655-abde-92ab139ae774",
   "metadata": {},
   "outputs": [],
   "source": [
    "import pandas as pd\n",
    "import sqlite3 as sql"
   ]
  },
  {
   "cell_type": "code",
   "execution_count": 2,
   "id": "12b605a8-3b8d-48a4-ac6f-01542840668c",
   "metadata": {},
   "outputs": [],
   "source": [
    "import os\n",
    "con = sql.connect(os.path.join(os.getcwd(), 'synthea_and_county_ga.db')) #test.b has more than 2 years of history... AFTER testing costs are still VERY different every year, so can stick with current data"
   ]
  },
  {
   "cell_type": "code",
   "execution_count": 3,
   "id": "449e02e7-96d7-4249-bee0-10986a5e5ec2",
   "metadata": {},
   "outputs": [],
   "source": [
    "df = pd.read_excel('w4e2_patient_risk_morb_scores.xlsx')\n",
    "df = df.set_index('id')"
   ]
  },
  {
   "cell_type": "code",
   "execution_count": 4,
   "id": "5ae0ac6f-3d30-4e69-b669-463e03e7e1de",
   "metadata": {},
   "outputs": [],
   "source": [
    "# Manually set a date to start from for 5 years in the past\n",
    "from datetime import date\n",
    "startdate = date(2017, 1, 1) # Date chosen for when data created"
   ]
  },
  {
   "cell_type": "code",
   "execution_count": 5,
   "id": "9a58b6fa-028a-4a29-a12b-0350a0cd8ad4",
   "metadata": {},
   "outputs": [],
   "source": [
    "# Create the columns and zero fill\n",
    "df['cost_yearminus5'] = 0\n",
    "df['cost_yearminus4'] = 0\n",
    "df['cost_yearminus3'] = 0\n",
    "df['cost_yearminus2'] = 0\n",
    "df['cost_yearminus1'] = 0\n",
    "df['cost_year0'] = 0"
   ]
  },
  {
   "cell_type": "code",
   "execution_count": 6,
   "id": "932c9ff9-b910-471f-baf3-5566ecbf7a9f",
   "metadata": {},
   "outputs": [],
   "source": [
    "# Note the start date is 5 years back. Change to python variable in the future\n",
    "sql = f\"\"\"\n",
    "    select patient as id, strftime('%Y', start) as enc_year, sum(TOTAL_CLAIM_COST) as enc_year_cost\n",
    "    from encounters \n",
    "    where start > '{startdate}' and encounterclass not in ('wellness')\n",
    "    group by patient, enc_year\n",
    "    order by patient, enc_year\n",
    "\"\"\"\n",
    "\n",
    "df_temp = pd.read_sql_query(sql, con)\n",
    "df_temp = df_temp.rename(columns=str.lower)\n",
    "df_temp = df_temp.set_index('id')\n",
    "df_temp = df_temp.round(2)"
   ]
  },
  {
   "cell_type": "code",
   "execution_count": 7,
   "id": "1952925a-3439-4167-835d-ca936bad82ab",
   "metadata": {},
   "outputs": [],
   "source": [
    "df_pivot = df_temp.pivot(columns='enc_year', values='enc_year_cost')\n",
    "df_pivot = df_pivot.rename(columns = {'2017':'cost_yearminus5',\n",
    "                                     '2018':'cost_yearminus4',\n",
    "                                     '2019':'cost_yearminus3',\n",
    "                                     '2020':'cost_yearminus2',\n",
    "                                     '2021':'cost_yearminus1',\n",
    "                                     '2022':'cost_year0'})"
   ]
  },
  {
   "cell_type": "code",
   "execution_count": 8,
   "id": "5a568caf-6bc6-4743-903a-5fabf86e9db7",
   "metadata": {},
   "outputs": [
    {
     "data": {
      "text/html": [
       "<div>\n",
       "<style scoped>\n",
       "    .dataframe tbody tr th:only-of-type {\n",
       "        vertical-align: middle;\n",
       "    }\n",
       "\n",
       "    .dataframe tbody tr th {\n",
       "        vertical-align: top;\n",
       "    }\n",
       "\n",
       "    .dataframe thead th {\n",
       "        text-align: right;\n",
       "    }\n",
       "</style>\n",
       "<table border=\"1\" class=\"dataframe\">\n",
       "  <thead>\n",
       "    <tr style=\"text-align: right;\">\n",
       "      <th>enc_year</th>\n",
       "      <th>cost_yearminus5</th>\n",
       "      <th>cost_yearminus4</th>\n",
       "      <th>cost_yearminus3</th>\n",
       "      <th>cost_yearminus2</th>\n",
       "      <th>cost_yearminus1</th>\n",
       "      <th>cost_year0</th>\n",
       "      <th>2023</th>\n",
       "    </tr>\n",
       "    <tr>\n",
       "      <th>id</th>\n",
       "      <th></th>\n",
       "      <th></th>\n",
       "      <th></th>\n",
       "      <th></th>\n",
       "      <th></th>\n",
       "      <th></th>\n",
       "      <th></th>\n",
       "    </tr>\n",
       "  </thead>\n",
       "  <tbody>\n",
       "    <tr>\n",
       "      <th>00054016-4e0f-ca1b-1c9d-ef729b4015e5</th>\n",
       "      <td>29082.12</td>\n",
       "      <td>22255.95</td>\n",
       "      <td>18381.97</td>\n",
       "      <td>30109.99</td>\n",
       "      <td>41543.14</td>\n",
       "      <td>21358.97</td>\n",
       "      <td>2414.59</td>\n",
       "    </tr>\n",
       "    <tr>\n",
       "      <th>000a96b5-198b-2d1a-1df1-30c2b8e02dbf</th>\n",
       "      <td>NaN</td>\n",
       "      <td>183.85</td>\n",
       "      <td>NaN</td>\n",
       "      <td>1058.07</td>\n",
       "      <td>1048.51</td>\n",
       "      <td>253.92</td>\n",
       "      <td>NaN</td>\n",
       "    </tr>\n",
       "    <tr>\n",
       "      <th>000cea9e-5559-4bdc-88ff-fa934dd0d4af</th>\n",
       "      <td>NaN</td>\n",
       "      <td>3656.45</td>\n",
       "      <td>8895.82</td>\n",
       "      <td>NaN</td>\n",
       "      <td>NaN</td>\n",
       "      <td>NaN</td>\n",
       "      <td>67.77</td>\n",
       "    </tr>\n",
       "    <tr>\n",
       "      <th>000e631f-48bd-e91f-c2ec-90045a19eadb</th>\n",
       "      <td>116.08</td>\n",
       "      <td>549.47</td>\n",
       "      <td>4395.76</td>\n",
       "      <td>1833.74</td>\n",
       "      <td>29387.29</td>\n",
       "      <td>2197.88</td>\n",
       "      <td>1098.94</td>\n",
       "    </tr>\n",
       "    <tr>\n",
       "      <th>00154845-1b6d-eb8f-7a0d-60915f642d23</th>\n",
       "      <td>NaN</td>\n",
       "      <td>NaN</td>\n",
       "      <td>685.01</td>\n",
       "      <td>24700.46</td>\n",
       "      <td>497.88</td>\n",
       "      <td>NaN</td>\n",
       "      <td>NaN</td>\n",
       "    </tr>\n",
       "    <tr>\n",
       "      <th>...</th>\n",
       "      <td>...</td>\n",
       "      <td>...</td>\n",
       "      <td>...</td>\n",
       "      <td>...</td>\n",
       "      <td>...</td>\n",
       "      <td>...</td>\n",
       "      <td>...</td>\n",
       "    </tr>\n",
       "    <tr>\n",
       "      <th>ffe5376c-1dca-8001-a4fa-0c62b2fc5dd5</th>\n",
       "      <td>NaN</td>\n",
       "      <td>2716.09</td>\n",
       "      <td>17685.38</td>\n",
       "      <td>14349.46</td>\n",
       "      <td>20107.93</td>\n",
       "      <td>NaN</td>\n",
       "      <td>NaN</td>\n",
       "    </tr>\n",
       "    <tr>\n",
       "      <th>ffe5c5b8-c27e-648c-cdc8-2b60a3152585</th>\n",
       "      <td>NaN</td>\n",
       "      <td>9076.18</td>\n",
       "      <td>NaN</td>\n",
       "      <td>NaN</td>\n",
       "      <td>701.19</td>\n",
       "      <td>1536.08</td>\n",
       "      <td>67.77</td>\n",
       "    </tr>\n",
       "    <tr>\n",
       "      <th>ffe935fd-f57f-39ac-f921-1d8555d08c33</th>\n",
       "      <td>NaN</td>\n",
       "      <td>NaN</td>\n",
       "      <td>NaN</td>\n",
       "      <td>NaN</td>\n",
       "      <td>497.88</td>\n",
       "      <td>NaN</td>\n",
       "      <td>NaN</td>\n",
       "    </tr>\n",
       "    <tr>\n",
       "      <th>ffea5d9b-4772-e24c-db62-5980f63b966d</th>\n",
       "      <td>NaN</td>\n",
       "      <td>NaN</td>\n",
       "      <td>67.77</td>\n",
       "      <td>3024.37</td>\n",
       "      <td>4921.84</td>\n",
       "      <td>NaN</td>\n",
       "      <td>NaN</td>\n",
       "    </tr>\n",
       "    <tr>\n",
       "      <th>fffec807-6aca-3300-b87a-032c70a488d1</th>\n",
       "      <td>NaN</td>\n",
       "      <td>12398.93</td>\n",
       "      <td>135.54</td>\n",
       "      <td>67.77</td>\n",
       "      <td>497.88</td>\n",
       "      <td>NaN</td>\n",
       "      <td>67.77</td>\n",
       "    </tr>\n",
       "  </tbody>\n",
       "</table>\n",
       "<p>20005 rows × 7 columns</p>\n",
       "</div>"
      ],
      "text/plain": [
       "enc_year                              cost_yearminus5  cost_yearminus4  \\\n",
       "id                                                                       \n",
       "00054016-4e0f-ca1b-1c9d-ef729b4015e5         29082.12         22255.95   \n",
       "000a96b5-198b-2d1a-1df1-30c2b8e02dbf              NaN           183.85   \n",
       "000cea9e-5559-4bdc-88ff-fa934dd0d4af              NaN          3656.45   \n",
       "000e631f-48bd-e91f-c2ec-90045a19eadb           116.08           549.47   \n",
       "00154845-1b6d-eb8f-7a0d-60915f642d23              NaN              NaN   \n",
       "...                                               ...              ...   \n",
       "ffe5376c-1dca-8001-a4fa-0c62b2fc5dd5              NaN          2716.09   \n",
       "ffe5c5b8-c27e-648c-cdc8-2b60a3152585              NaN          9076.18   \n",
       "ffe935fd-f57f-39ac-f921-1d8555d08c33              NaN              NaN   \n",
       "ffea5d9b-4772-e24c-db62-5980f63b966d              NaN              NaN   \n",
       "fffec807-6aca-3300-b87a-032c70a488d1              NaN         12398.93   \n",
       "\n",
       "enc_year                              cost_yearminus3  cost_yearminus2  \\\n",
       "id                                                                       \n",
       "00054016-4e0f-ca1b-1c9d-ef729b4015e5         18381.97         30109.99   \n",
       "000a96b5-198b-2d1a-1df1-30c2b8e02dbf              NaN          1058.07   \n",
       "000cea9e-5559-4bdc-88ff-fa934dd0d4af          8895.82              NaN   \n",
       "000e631f-48bd-e91f-c2ec-90045a19eadb          4395.76          1833.74   \n",
       "00154845-1b6d-eb8f-7a0d-60915f642d23           685.01         24700.46   \n",
       "...                                               ...              ...   \n",
       "ffe5376c-1dca-8001-a4fa-0c62b2fc5dd5         17685.38         14349.46   \n",
       "ffe5c5b8-c27e-648c-cdc8-2b60a3152585              NaN              NaN   \n",
       "ffe935fd-f57f-39ac-f921-1d8555d08c33              NaN              NaN   \n",
       "ffea5d9b-4772-e24c-db62-5980f63b966d            67.77          3024.37   \n",
       "fffec807-6aca-3300-b87a-032c70a488d1           135.54            67.77   \n",
       "\n",
       "enc_year                              cost_yearminus1  cost_year0     2023  \n",
       "id                                                                          \n",
       "00054016-4e0f-ca1b-1c9d-ef729b4015e5         41543.14    21358.97  2414.59  \n",
       "000a96b5-198b-2d1a-1df1-30c2b8e02dbf          1048.51      253.92      NaN  \n",
       "000cea9e-5559-4bdc-88ff-fa934dd0d4af              NaN         NaN    67.77  \n",
       "000e631f-48bd-e91f-c2ec-90045a19eadb         29387.29     2197.88  1098.94  \n",
       "00154845-1b6d-eb8f-7a0d-60915f642d23           497.88         NaN      NaN  \n",
       "...                                               ...         ...      ...  \n",
       "ffe5376c-1dca-8001-a4fa-0c62b2fc5dd5         20107.93         NaN      NaN  \n",
       "ffe5c5b8-c27e-648c-cdc8-2b60a3152585           701.19     1536.08    67.77  \n",
       "ffe935fd-f57f-39ac-f921-1d8555d08c33           497.88         NaN      NaN  \n",
       "ffea5d9b-4772-e24c-db62-5980f63b966d          4921.84         NaN      NaN  \n",
       "fffec807-6aca-3300-b87a-032c70a488d1           497.88         NaN    67.77  \n",
       "\n",
       "[20005 rows x 7 columns]"
      ]
     },
     "execution_count": 8,
     "metadata": {},
     "output_type": "execute_result"
    }
   ],
   "source": [
    "df_pivot"
   ]
  },
  {
   "cell_type": "code",
   "execution_count": 9,
   "id": "320f571c-205d-4620-93aa-eb3f8316b140",
   "metadata": {},
   "outputs": [],
   "source": [
    "df.update(df_pivot)"
   ]
  },
  {
   "cell_type": "code",
   "execution_count": 10,
   "id": "73f5d0cb-241c-4cd2-9463-6586c9ef3270",
   "metadata": {},
   "outputs": [
    {
     "name": "stdout",
     "output_type": "stream",
     "text": [
      "<class 'pandas.core.frame.DataFrame'>\n",
      "Index: 22632 entries, 53e40e98-c764-53a4-aaf6-6318a3c3c95d to 9fdfb702-0f46-8899-fe8c-363733532bb6\n",
      "Columns: 137 entries, first to cost_year0\n",
      "dtypes: bool(12), float64(39), int64(53), object(33)\n",
      "memory usage: 22.0+ MB\n"
     ]
    }
   ],
   "source": [
    "df.info()"
   ]
  },
  {
   "cell_type": "markdown",
   "id": "f38e88c5-4e17-46d2-9715-29f784669642",
   "metadata": {},
   "source": [
    "## Create the prediction model for prediting year 0 (i.e., 2022)"
   ]
  },
  {
   "cell_type": "code",
   "execution_count": 11,
   "id": "5d395d22-4491-4e4d-8f94-1d59a98db2a9",
   "metadata": {},
   "outputs": [],
   "source": [
    "y = df['cost_year0']"
   ]
  },
  {
   "cell_type": "code",
   "execution_count": 12,
   "id": "805fc8f9-ddbd-4e75-a5da-a6cf9022bd7d",
   "metadata": {},
   "outputs": [],
   "source": [
    "# Set up the predictors to include all 'numof' (utilization) columns and prior year costs\n",
    "cols_numof = [col for col in df.columns if 'numof' in col]\n",
    "cols_cost = [col for col in df.columns if 'cost_year' in col]\n",
    "X = df[cols_numof + cols_cost]\n",
    "# Drop last (target)\n",
    "X = X.drop(columns=['cost_year0']) # don't need the current year as that is what we are trying to predict"
   ]
  },
  {
   "cell_type": "code",
   "execution_count": 13,
   "id": "096a0eab-dd8f-4da0-847f-85a840d81016",
   "metadata": {},
   "outputs": [],
   "source": [
    "from sklearn.model_selection import train_test_split\n",
    "X_train, X_test, y_train, y_test = train_test_split(X, y, random_state = 42)"
   ]
  },
  {
   "cell_type": "code",
   "execution_count": 15,
   "id": "f2f97f7f-a3f3-4849-bc5a-cb7dcdcfe0a9",
   "metadata": {},
   "outputs": [
    {
     "data": {
      "text/plain": [
       "0.7605832641428127"
      ]
     },
     "execution_count": 15,
     "metadata": {},
     "output_type": "execute_result"
    }
   ],
   "source": [
    "from sklearn.ensemble import RandomForestRegressor\n",
    "model = RandomForestRegressor(n_estimators=100, random_state=42)\n",
    "model.fit(X_train, y_train)\n",
    "model.score(X_test, y_test)\n",
    "\n",
    "\n",
    "\n",
    "\n"
   ]
  },
  {
   "cell_type": "markdown",
   "id": "eadc1f64-bf33-4399-8914-d0362ebfe398",
   "metadata": {},
   "source": [
    "## Now that we have a model\n",
    "### Shift by one year and predict following year"
   ]
  },
  {
   "cell_type": "code",
   "execution_count": 16,
   "id": "9acabd1a-fb23-4ab7-8062-f91d2e82fb70",
   "metadata": {},
   "outputs": [],
   "source": [
    "X['cost_yearminus1'] = df['cost_year0']\n",
    "X['cost_yearminus2'] = df['cost_yearminus1']\n",
    "X['cost_yearminus3'] = df['cost_yearminus2']\n",
    "X['cost_yearminus4'] = df['cost_yearminus3']\n",
    "X['cost_yearminus5'] = df['cost_yearminus4']"
   ]
  },
  {
   "cell_type": "code",
   "execution_count": 17,
   "id": "0a4c47d8-2929-44a8-9659-c83ae94f2225",
   "metadata": {},
   "outputs": [
    {
     "name": "stdout",
     "output_type": "stream",
     "text": [
      "0\n"
     ]
    }
   ],
   "source": []
  },
  {
   "cell_type": "code",
   "execution_count": 17,
   "id": "3a70a1d2-c9c5-4b48-a99f-0cbbba21552e",
   "metadata": {},
   "outputs": [],
   "source": [
    "df['cost_yearplus1'] = result.round(2)"
   ]
  },
  {
   "cell_type": "code",
   "execution_count": 18,
   "id": "94bef8e1-982f-4100-8ca7-622914f05615",
   "metadata": {},
   "outputs": [],
   "source": [
    "df.to_excel('w5e2_patient_cost_forecast.xlsx')"
   ]
  },
  {
   "cell_type": "code",
   "execution_count": null,
   "id": "6150b040",
   "metadata": {},
   "outputs": [],
   "source": []
  }
 ],
 "metadata": {
  "kernelspec": {
   "display_name": "Python 3",
   "language": "python",
   "name": "python3"
  },
  "language_info": {
   "codemirror_mode": {
    "name": "ipython",
    "version": 3
   },
   "file_extension": ".py",
   "mimetype": "text/x-python",
   "name": "python",
   "nbconvert_exporter": "python",
   "pygments_lexer": "ipython3",
   "version": "3.8.10"
  },
  "vscode": {
   "interpreter": {
    "hash": "e5fb2c28fb4ea9cc6ce4083cb5e83ea3e2521b21f80ec33cc90b80e890da9060"
   }
  }
 },
 "nbformat": 4,
 "nbformat_minor": 5
}
