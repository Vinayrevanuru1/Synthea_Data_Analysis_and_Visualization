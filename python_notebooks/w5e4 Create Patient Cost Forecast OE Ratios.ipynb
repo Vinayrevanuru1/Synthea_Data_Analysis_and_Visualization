{
 "cells": [
  {
   "cell_type": "markdown",
   "id": "b7690e08-5bac-4267-b00f-9c75eb7b519b",
   "metadata": {},
   "source": [
    "# Week 5 Exercise 4\n",
    "## Create a forecasted cost O/E Ratio per Patient"
   ]
  },
  {
   "cell_type": "code",
   "execution_count": 1,
   "id": "53d25a8f-e5ff-453e-bb30-ab3e4c5f8042",
   "metadata": {},
   "outputs": [],
   "source": [
    "import pandas as pd\n",
    "import statsmodels.api as sm\n",
    "from sklearn.ensemble import RandomForestRegressor"
   ]
  },
  {
   "cell_type": "code",
   "execution_count": 2,
   "id": "5db1d1cc-36cf-49ac-ac20-548c2bf3d1b5",
   "metadata": {},
   "outputs": [],
   "source": [
    "df = pd.read_excel('w5e2_patient_cost_forecast_vinay.xlsx',index_col='id')"
   ]
  },
  {
   "cell_type": "code",
   "execution_count": 3,
   "id": "217eec55-b886-48d5-b156-87b562d24fdb",
   "metadata": {},
   "outputs": [
    {
     "name": "stdout",
     "output_type": "stream",
     "text": [
      "<class 'pandas.core.frame.DataFrame'>\n",
      "Index: 22632 entries, 53e40e98-c764-53a4-aaf6-6318a3c3c95d to 9fdfb702-0f46-8899-fe8c-363733532bb6\n",
      "Data columns (total 138 columns):\n",
      " #    Column                                     Dtype  \n",
      "---   ------                                     -----  \n",
      " 0    first                                      object \n",
      " 1    last                                       object \n",
      " 2    city                                       object \n",
      " 3    state                                      object \n",
      " 4    county                                     object \n",
      " 5    fips                                       int64  \n",
      " 6    lat                                        float64\n",
      " 7    lon                                        float64\n",
      " 8    birthdate                                  object \n",
      " 9    marital                                    object \n",
      " 10   race                                       object \n",
      " 11   ethnicity                                  object \n",
      " 12   gender                                     object \n",
      " 13   cost_lifetime                              int64  \n",
      " 14   income                                     int64  \n",
      " 15   age                                        int64  \n",
      " 16   insurancetype                              object \n",
      " 17   education                                  object \n",
      " 18   numof_allergies                            int64  \n",
      " 19   numof_careplans                            int64  \n",
      " 20   numof_devices                              int64  \n",
      " 21   numof_medications                          int64  \n",
      " 22   numof_procedures_2yr                       int64  \n",
      " 23   numof_med_conds                            int64  \n",
      " 24   numof_soc_challs                           int64  \n",
      " 25   numof_enc_ambulatory_2yr                   int64  \n",
      " 26   numof_enc_emergency_2yr                    int64  \n",
      " 27   numof_enc_home_2yr                         int64  \n",
      " 28   numof_enc_hospice_2yr                      int64  \n",
      " 29   numof_enc_inpatient_2yr                    int64  \n",
      " 30   numof_enc_outpatient_2yr                   int64  \n",
      " 31   numof_enc_snf_2yr                          int64  \n",
      " 32   numof_enc_urgentcare_2yr                   int64  \n",
      " 33   numof_enc_virtual_2yr                      int64  \n",
      " 34   numof_enc_wellness_2yr                     int64  \n",
      " 35   enc_wellness_visit_most_recent             object \n",
      " 36   enc_wellness_visit_most_recent_dayssince   int64  \n",
      " 37   enc_wellness_visit_within18months          bool   \n",
      " 38   enc_ed_visit_most_recent                   object \n",
      " 39   enc_ed_visit_most_recent_dayssince         float64\n",
      " 40   enc_inpatient_visit_most_recent            object \n",
      " 41   enc_inpatient_visit_most_recent_dayssince  float64\n",
      " 42   obs_bmi_most_recent                        float64\n",
      " 43   obs_bmi_most_recent_date                   object \n",
      " 44   cond_bmi_30plus                            bool   \n",
      " 45   cond_bmi_30plus_start                      object \n",
      " 46   cond_bmi_30plus_start_dayssince            float64\n",
      " 47   cond_diab                                  bool   \n",
      " 48   cond_diab_start                            object \n",
      " 49   cond_diab_start_dayssince                  float64\n",
      " 50   obs_hba1c_most_recent                      float64\n",
      " 51   obs_hba1c_most_recent_date                 object \n",
      " 52   cond_hyp                                   bool   \n",
      " 53   cond_hyp_start                             object \n",
      " 54   cond_hyp_start_dayssince                   float64\n",
      " 55   obs_bp_dia_most_recent                     float64\n",
      " 56   obs_bp_dia_most_recent_date                object \n",
      " 57   obs_bp_sys_most_recent                     float64\n",
      " 58   obs_bp_sys_most_recent_date                object \n",
      " 59   cond_mentalhealth                          bool   \n",
      " 60   cond_mentalhealth_start                    object \n",
      " 61   cond_mentalhealth_start_dayssince          float64\n",
      " 62   cond_substance                             bool   \n",
      " 63   cond_substance_start                       object \n",
      " 64   cond_substance_start_dayssince             float64\n",
      " 65   cond_asthma                                bool   \n",
      " 66   cond_asthma_start                          object \n",
      " 67   cond_asthma_start_dayssince                float64\n",
      " 68   cond_cardiac                               bool   \n",
      " 69   cond_cardiac_start                         object \n",
      " 70   cond_cardiac_start_dayssince               float64\n",
      " 71   cond_cancer                                bool   \n",
      " 72   cond_cancer_start                          object \n",
      " 73   cond_cancer_start_dayssince                float64\n",
      " 74   cond_kidney                                bool   \n",
      " 75   cond_kidney_start                          object \n",
      " 76   cond_kidney_start_dayssince                float64\n",
      " 77   cond_stroke                                bool   \n",
      " 78   cond_stroke_start                          float64\n",
      " 79   cond_stroke_start_dayssince                float64\n",
      " 80   cond_sepsis                                bool   \n",
      " 81   cond_sepsis_start                          object \n",
      " 82   cond_sepsis_start_dayssince                float64\n",
      " 83   cond_total_dayssince                       int64  \n",
      " 84   cost_total_2yr                             int64  \n",
      " 85   cost_enc_2yr_highcost_reason               object \n",
      " 86   cost_enc_2yr_highcost_cost                 float64\n",
      " 87   cost_proc_2yr_highcost_reason              object \n",
      " 88   cost_proc_2yr_highcost_count               int64  \n",
      " 89   cost_proc_2yr_highcost_sumcost             int64  \n",
      " 90   state_abbr                                 object \n",
      " 91   county_name                                object \n",
      " 92   ahrf_pop_est_2020                          int64  \n",
      " 93   ahrf_pop_den_2010                          float64\n",
      " 94   ahrf_phys_pricare                          int64  \n",
      " 95   ahrf_phys_total                            int64  \n",
      " 96   ahrf_hosp_total                            int64  \n",
      " 97   ahrf_hosp_cah                              int64  \n",
      " 98   ahrf_hosp_with_ed                          int64  \n",
      " 99   ahrf_hosp_with_offcampus_ed                int64  \n",
      " 100  ahrf_hosp_with_pedsed                      int64  \n",
      " 101  ahrf_hosp_with_traumactr                   int64  \n",
      " 102  ahrf_ed_visits                             int64  \n",
      " 103  ahrf_ed_visits_per_capita                  float64\n",
      " 104  ahrf_phys_pricare_per_2000                 float64\n",
      " 105  chr_healthoutcomes_rank                    int64  \n",
      " 106  chr_healthoutcomes_quartile                int64  \n",
      " 107  chr_healthfactors_rank                     int64  \n",
      " 108  chr_healthfactors_quartile                 int64  \n",
      " 109  chr_lengthoflife_rank                      int64  \n",
      " 110  chr_lengthoflife_quartile                  int64  \n",
      " 111  chr_qualityoflife_rank                     int64  \n",
      " 112  chr_qualityoflife_quartile                 int64  \n",
      " 113  chr_healthbehaviors_rank                   int64  \n",
      " 114  chr_healthbehaviors_quartile               int64  \n",
      " 115  chr_clinicalcare_rank                      int64  \n",
      " 116  chr_clinicalcare_quartile                  int64  \n",
      " 117  chr_sesfactors_rank                        int64  \n",
      " 118  chr_sesfactors_quartile                    int64  \n",
      " 119  chr_physenv_rank                           int64  \n",
      " 120  chr_physenv_quartile                       int64  \n",
      " 121  svi_perc                                   float64\n",
      " 122  svi_ses_perc                               float64\n",
      " 123  svi_hcd_perc                               float64\n",
      " 124  svi_msl_perc                               float64\n",
      " 125  svi_htt_perc                               float64\n",
      " 126  syn_provider_count                         int64  \n",
      " 127  comm_health_needs_score                    float64\n",
      " 128  risk_score_morbidity                       float64\n",
      " 129  risk_score_diab                            float64\n",
      " 130  risk_score_hyp                             float64\n",
      " 131  cost_year_minus5                           int64  \n",
      " 132  cost_year_minus4                           int64  \n",
      " 133  cost_year_minus3                           int64  \n",
      " 134  cost_year_minus2                           int64  \n",
      " 135  cost_year_minus1                           int64  \n",
      " 136  cost_year0                                 float64\n",
      " 137  cost_yearplus1                             float64\n",
      "dtypes: bool(12), float64(35), int64(58), object(33)\n",
      "memory usage: 22.2+ MB\n"
     ]
    }
   ],
   "source": [
    "df.info(verbose=True)"
   ]
  },
  {
   "cell_type": "markdown",
   "id": "8690aa44-76da-4c08-9e4e-79a51058f50f",
   "metadata": {},
   "source": [
    "## Establish an expected cost (for a reference group)"
   ]
  },
  {
   "cell_type": "code",
   "execution_count": 4,
   "id": "3f26be97-f27d-4264-a5e2-e1eaa433eeb4",
   "metadata": {},
   "outputs": [],
   "source": [
    "# Expected value for forecasted cost of reference group\n",
    "#y = df['cost_total_2yr']\n",
    "y = df['cost_yearplus1']\n",
    "# Establish the reference group through feature selection for the model\n",
    "df['const'] = 1\n",
    "X = df[['const', 'risk_score_morbidity']]\n",
    "X_dummies = pd.get_dummies(df['insurancetype'], prefix='insurancetype', drop_first=True)\n",
    "#add a column with no insurance type if all the elements  in the row are 0\n",
    "X_dummies['insurancetype_NotAvailable'] = X_dummies.apply(lambda x: 1 if x.sum() == 0 else 0, axis=1)\n",
    "X = pd.concat([X, X_dummies], axis=1)"
   ]
  },
  {
   "cell_type": "code",
   "execution_count": 5,
   "id": "e879a69c",
   "metadata": {},
   "outputs": [
    {
     "data": {
      "text/html": [
       "<div>\n",
       "<style scoped>\n",
       "    .dataframe tbody tr th:only-of-type {\n",
       "        vertical-align: middle;\n",
       "    }\n",
       "\n",
       "    .dataframe tbody tr th {\n",
       "        vertical-align: top;\n",
       "    }\n",
       "\n",
       "    .dataframe thead th {\n",
       "        text-align: right;\n",
       "    }\n",
       "</style>\n",
       "<table border=\"1\" class=\"dataframe\">\n",
       "  <thead>\n",
       "    <tr style=\"text-align: right;\">\n",
       "      <th></th>\n",
       "      <th>const</th>\n",
       "      <th>risk_score_morbidity</th>\n",
       "      <th>insurancetype_dualelig</th>\n",
       "      <th>insurancetype_medicaid</th>\n",
       "      <th>insurancetype_medicare</th>\n",
       "      <th>insurancetype_noins</th>\n",
       "      <th>insurancetype_NotAvailable</th>\n",
       "    </tr>\n",
       "    <tr>\n",
       "      <th>id</th>\n",
       "      <th></th>\n",
       "      <th></th>\n",
       "      <th></th>\n",
       "      <th></th>\n",
       "      <th></th>\n",
       "      <th></th>\n",
       "      <th></th>\n",
       "    </tr>\n",
       "  </thead>\n",
       "  <tbody>\n",
       "    <tr>\n",
       "      <th>53e40e98-c764-53a4-aaf6-6318a3c3c95d</th>\n",
       "      <td>1</td>\n",
       "      <td>0.00</td>\n",
       "      <td>0</td>\n",
       "      <td>0</td>\n",
       "      <td>0</td>\n",
       "      <td>0</td>\n",
       "      <td>1</td>\n",
       "    </tr>\n",
       "    <tr>\n",
       "      <th>c87850c0-6c2e-7312-b050-cfcc2a74be53</th>\n",
       "      <td>1</td>\n",
       "      <td>99.46</td>\n",
       "      <td>0</td>\n",
       "      <td>0</td>\n",
       "      <td>1</td>\n",
       "      <td>0</td>\n",
       "      <td>0</td>\n",
       "    </tr>\n",
       "    <tr>\n",
       "      <th>0c99afa9-03c2-f695-efe2-7943262bbbc7</th>\n",
       "      <td>1</td>\n",
       "      <td>0.20</td>\n",
       "      <td>0</td>\n",
       "      <td>0</td>\n",
       "      <td>0</td>\n",
       "      <td>0</td>\n",
       "      <td>1</td>\n",
       "    </tr>\n",
       "    <tr>\n",
       "      <th>5e8c9aa2-90da-8e27-7d6f-c6b0faf50169</th>\n",
       "      <td>1</td>\n",
       "      <td>7.90</td>\n",
       "      <td>0</td>\n",
       "      <td>0</td>\n",
       "      <td>0</td>\n",
       "      <td>0</td>\n",
       "      <td>1</td>\n",
       "    </tr>\n",
       "    <tr>\n",
       "      <th>ce8b6d28-f7a3-8427-6ca6-0f01fc5422d4</th>\n",
       "      <td>1</td>\n",
       "      <td>0.00</td>\n",
       "      <td>0</td>\n",
       "      <td>0</td>\n",
       "      <td>0</td>\n",
       "      <td>0</td>\n",
       "      <td>1</td>\n",
       "    </tr>\n",
       "    <tr>\n",
       "      <th>...</th>\n",
       "      <td>...</td>\n",
       "      <td>...</td>\n",
       "      <td>...</td>\n",
       "      <td>...</td>\n",
       "      <td>...</td>\n",
       "      <td>...</td>\n",
       "      <td>...</td>\n",
       "    </tr>\n",
       "    <tr>\n",
       "      <th>9e386110-9e48-346c-7363-86669d6cfa8d</th>\n",
       "      <td>1</td>\n",
       "      <td>5.96</td>\n",
       "      <td>0</td>\n",
       "      <td>0</td>\n",
       "      <td>0</td>\n",
       "      <td>0</td>\n",
       "      <td>1</td>\n",
       "    </tr>\n",
       "    <tr>\n",
       "      <th>f2ad9924-0e5e-4ed4-a600-bc4341c440b6</th>\n",
       "      <td>1</td>\n",
       "      <td>7.41</td>\n",
       "      <td>0</td>\n",
       "      <td>0</td>\n",
       "      <td>1</td>\n",
       "      <td>0</td>\n",
       "      <td>0</td>\n",
       "    </tr>\n",
       "    <tr>\n",
       "      <th>b3882e05-5ad3-36d9-8822-d5ff0fe187bb</th>\n",
       "      <td>1</td>\n",
       "      <td>81.58</td>\n",
       "      <td>0</td>\n",
       "      <td>0</td>\n",
       "      <td>1</td>\n",
       "      <td>0</td>\n",
       "      <td>0</td>\n",
       "    </tr>\n",
       "    <tr>\n",
       "      <th>69426d6b-5c07-b1b7-41fc-060a788819c8</th>\n",
       "      <td>1</td>\n",
       "      <td>59.68</td>\n",
       "      <td>0</td>\n",
       "      <td>0</td>\n",
       "      <td>1</td>\n",
       "      <td>0</td>\n",
       "      <td>0</td>\n",
       "    </tr>\n",
       "    <tr>\n",
       "      <th>9fdfb702-0f46-8899-fe8c-363733532bb6</th>\n",
       "      <td>1</td>\n",
       "      <td>86.04</td>\n",
       "      <td>0</td>\n",
       "      <td>0</td>\n",
       "      <td>0</td>\n",
       "      <td>0</td>\n",
       "      <td>1</td>\n",
       "    </tr>\n",
       "  </tbody>\n",
       "</table>\n",
       "<p>22632 rows × 7 columns</p>\n",
       "</div>"
      ],
      "text/plain": [
       "                                      const  risk_score_morbidity  \\\n",
       "id                                                                  \n",
       "53e40e98-c764-53a4-aaf6-6318a3c3c95d      1                  0.00   \n",
       "c87850c0-6c2e-7312-b050-cfcc2a74be53      1                 99.46   \n",
       "0c99afa9-03c2-f695-efe2-7943262bbbc7      1                  0.20   \n",
       "5e8c9aa2-90da-8e27-7d6f-c6b0faf50169      1                  7.90   \n",
       "ce8b6d28-f7a3-8427-6ca6-0f01fc5422d4      1                  0.00   \n",
       "...                                     ...                   ...   \n",
       "9e386110-9e48-346c-7363-86669d6cfa8d      1                  5.96   \n",
       "f2ad9924-0e5e-4ed4-a600-bc4341c440b6      1                  7.41   \n",
       "b3882e05-5ad3-36d9-8822-d5ff0fe187bb      1                 81.58   \n",
       "69426d6b-5c07-b1b7-41fc-060a788819c8      1                 59.68   \n",
       "9fdfb702-0f46-8899-fe8c-363733532bb6      1                 86.04   \n",
       "\n",
       "                                      insurancetype_dualelig  \\\n",
       "id                                                             \n",
       "53e40e98-c764-53a4-aaf6-6318a3c3c95d                       0   \n",
       "c87850c0-6c2e-7312-b050-cfcc2a74be53                       0   \n",
       "0c99afa9-03c2-f695-efe2-7943262bbbc7                       0   \n",
       "5e8c9aa2-90da-8e27-7d6f-c6b0faf50169                       0   \n",
       "ce8b6d28-f7a3-8427-6ca6-0f01fc5422d4                       0   \n",
       "...                                                      ...   \n",
       "9e386110-9e48-346c-7363-86669d6cfa8d                       0   \n",
       "f2ad9924-0e5e-4ed4-a600-bc4341c440b6                       0   \n",
       "b3882e05-5ad3-36d9-8822-d5ff0fe187bb                       0   \n",
       "69426d6b-5c07-b1b7-41fc-060a788819c8                       0   \n",
       "9fdfb702-0f46-8899-fe8c-363733532bb6                       0   \n",
       "\n",
       "                                      insurancetype_medicaid  \\\n",
       "id                                                             \n",
       "53e40e98-c764-53a4-aaf6-6318a3c3c95d                       0   \n",
       "c87850c0-6c2e-7312-b050-cfcc2a74be53                       0   \n",
       "0c99afa9-03c2-f695-efe2-7943262bbbc7                       0   \n",
       "5e8c9aa2-90da-8e27-7d6f-c6b0faf50169                       0   \n",
       "ce8b6d28-f7a3-8427-6ca6-0f01fc5422d4                       0   \n",
       "...                                                      ...   \n",
       "9e386110-9e48-346c-7363-86669d6cfa8d                       0   \n",
       "f2ad9924-0e5e-4ed4-a600-bc4341c440b6                       0   \n",
       "b3882e05-5ad3-36d9-8822-d5ff0fe187bb                       0   \n",
       "69426d6b-5c07-b1b7-41fc-060a788819c8                       0   \n",
       "9fdfb702-0f46-8899-fe8c-363733532bb6                       0   \n",
       "\n",
       "                                      insurancetype_medicare  \\\n",
       "id                                                             \n",
       "53e40e98-c764-53a4-aaf6-6318a3c3c95d                       0   \n",
       "c87850c0-6c2e-7312-b050-cfcc2a74be53                       1   \n",
       "0c99afa9-03c2-f695-efe2-7943262bbbc7                       0   \n",
       "5e8c9aa2-90da-8e27-7d6f-c6b0faf50169                       0   \n",
       "ce8b6d28-f7a3-8427-6ca6-0f01fc5422d4                       0   \n",
       "...                                                      ...   \n",
       "9e386110-9e48-346c-7363-86669d6cfa8d                       0   \n",
       "f2ad9924-0e5e-4ed4-a600-bc4341c440b6                       1   \n",
       "b3882e05-5ad3-36d9-8822-d5ff0fe187bb                       1   \n",
       "69426d6b-5c07-b1b7-41fc-060a788819c8                       1   \n",
       "9fdfb702-0f46-8899-fe8c-363733532bb6                       0   \n",
       "\n",
       "                                      insurancetype_noins  \\\n",
       "id                                                          \n",
       "53e40e98-c764-53a4-aaf6-6318a3c3c95d                    0   \n",
       "c87850c0-6c2e-7312-b050-cfcc2a74be53                    0   \n",
       "0c99afa9-03c2-f695-efe2-7943262bbbc7                    0   \n",
       "5e8c9aa2-90da-8e27-7d6f-c6b0faf50169                    0   \n",
       "ce8b6d28-f7a3-8427-6ca6-0f01fc5422d4                    0   \n",
       "...                                                   ...   \n",
       "9e386110-9e48-346c-7363-86669d6cfa8d                    0   \n",
       "f2ad9924-0e5e-4ed4-a600-bc4341c440b6                    0   \n",
       "b3882e05-5ad3-36d9-8822-d5ff0fe187bb                    0   \n",
       "69426d6b-5c07-b1b7-41fc-060a788819c8                    0   \n",
       "9fdfb702-0f46-8899-fe8c-363733532bb6                    0   \n",
       "\n",
       "                                      insurancetype_NotAvailable  \n",
       "id                                                                \n",
       "53e40e98-c764-53a4-aaf6-6318a3c3c95d                           1  \n",
       "c87850c0-6c2e-7312-b050-cfcc2a74be53                           0  \n",
       "0c99afa9-03c2-f695-efe2-7943262bbbc7                           1  \n",
       "5e8c9aa2-90da-8e27-7d6f-c6b0faf50169                           1  \n",
       "ce8b6d28-f7a3-8427-6ca6-0f01fc5422d4                           1  \n",
       "...                                                          ...  \n",
       "9e386110-9e48-346c-7363-86669d6cfa8d                           1  \n",
       "f2ad9924-0e5e-4ed4-a600-bc4341c440b6                           0  \n",
       "b3882e05-5ad3-36d9-8822-d5ff0fe187bb                           0  \n",
       "69426d6b-5c07-b1b7-41fc-060a788819c8                           0  \n",
       "9fdfb702-0f46-8899-fe8c-363733532bb6                           1  \n",
       "\n",
       "[22632 rows x 7 columns]"
      ]
     },
     "execution_count": 5,
     "metadata": {},
     "output_type": "execute_result"
    }
   ],
   "source": [
    "X"
   ]
  },
  {
   "cell_type": "code",
   "execution_count": 6,
   "id": "904ad8ae-3845-4962-aed2-18a81db80fdd",
   "metadata": {},
   "outputs": [],
   "source": [
    "#model = sm.OLS(y, X).fit()\n",
    "model = sm.RLM(y, X).fit() # Use robust linear model to assist with outliers\n",
    "\n",
    "# model = RandomForestRegressor( random_state=42)\n",
    "\n",
    "# model.fit(X, y)\n",
    "\n",
    "# model.feature_importances_"
   ]
  },
  {
   "cell_type": "code",
   "execution_count": 7,
   "id": "1c5454d3-f3c2-4c90-96fe-3a6c8d29a0fd",
   "metadata": {},
   "outputs": [
    {
     "data": {
      "text/plain": [
       "count    22632.000000\n",
       "mean      2941.013527\n",
       "std        597.333340\n",
       "min       1758.290000\n",
       "25%       2570.970000\n",
       "50%       2696.950000\n",
       "75%       3290.415000\n",
       "max       4143.650000\n",
       "Name: cost_refgroup_predicted, dtype: float64"
      ]
     },
     "execution_count": 7,
     "metadata": {},
     "output_type": "execute_result"
    }
   ],
   "source": [
    "# Get the predicted cost for each patient given the model above\n",
    "df['cost_refgroup_predicted'] = model.predict(X)\n",
    "df['cost_refgroup_predicted'] = df['cost_refgroup_predicted'].round(2)\n",
    "\n",
    "df['cost_refgroup_predicted'].describe()"
   ]
  },
  {
   "cell_type": "code",
   "execution_count": null,
   "id": "25192a35",
   "metadata": {},
   "outputs": [],
   "source": []
  },
  {
   "cell_type": "code",
   "execution_count": 32,
   "id": "082bf6b0-40ad-4d2b-905f-683f68904b60",
   "metadata": {},
   "outputs": [],
   "source": [
    "# Calculate the OE of observed (actual) costs divided by expected (predicted) costs\n",
    "#assign 0/0 to 1 to avoid divide by zero error\n",
    "\n",
    "#df['cost_forecast_oe_ratio'] = df['cost_yearplus1'] / df['cost_refgroup_predicted']\n",
    "\n",
    "for index, row in df.iterrows():\n",
    "    if df.loc[index, 'cost_yearplus1'] == 0 and df.loc[index, 'cost_refgroup_predicted'] == 0:\n",
    "        df.loc[index, 'cost_forecast_oe_ratio'] = 1\n",
    "    else:\n",
    "        df.loc[index, 'cost_forecast_oe_ratio'] = df.loc[index, 'cost_yearplus1'] / df.loc[index, 'cost_refgroup_predicted']\n",
    "        \n",
    "df['cost_forecast_oe_ratio'] = df['cost_forecast_oe_ratio'].round(2)"
   ]
  },
  {
   "cell_type": "code",
   "execution_count": 8,
   "id": "6ffbba57",
   "metadata": {},
   "outputs": [
    {
     "data": {
      "text/plain": [
       "-0.0702414048417297"
      ]
     },
     "execution_count": 8,
     "metadata": {},
     "output_type": "execute_result"
    }
   ],
   "source": [
    "#find the r2 score\n",
    "from sklearn.metrics import r2_score\n",
    "\n",
    "r2_score(df['cost_yearplus1'], df['cost_refgroup_predicted'])"
   ]
  },
  {
   "cell_type": "code",
   "execution_count": 33,
   "id": "4530a193-a60c-46f4-9e3b-c3271802e133",
   "metadata": {},
   "outputs": [
    {
     "ename": "KeyError",
     "evalue": "\"['const'] not found in axis\"",
     "output_type": "error",
     "traceback": [
      "\u001b[1;31m---------------------------------------------------------------------------\u001b[0m",
      "\u001b[1;31mKeyError\u001b[0m                                  Traceback (most recent call last)",
      "Cell \u001b[1;32mIn[33], line 2\u001b[0m\n\u001b[0;32m      1\u001b[0m \u001b[39m# Clean up... just a quirk of this particular model\u001b[39;00m\n\u001b[1;32m----> 2\u001b[0m df \u001b[39m=\u001b[39m df\u001b[39m.\u001b[39;49mdrop(columns\u001b[39m=\u001b[39;49m[\u001b[39m'\u001b[39;49m\u001b[39mconst\u001b[39;49m\u001b[39m'\u001b[39;49m])\n",
      "File \u001b[1;32mc:\\Users\\vinay\\AppData\\Local\\Programs\\Python\\Python38\\lib\\site-packages\\pandas\\util\\_decorators.py:331\u001b[0m, in \u001b[0;36mdeprecate_nonkeyword_arguments.<locals>.decorate.<locals>.wrapper\u001b[1;34m(*args, **kwargs)\u001b[0m\n\u001b[0;32m    325\u001b[0m \u001b[39mif\u001b[39;00m \u001b[39mlen\u001b[39m(args) \u001b[39m>\u001b[39m num_allow_args:\n\u001b[0;32m    326\u001b[0m     warnings\u001b[39m.\u001b[39mwarn(\n\u001b[0;32m    327\u001b[0m         msg\u001b[39m.\u001b[39mformat(arguments\u001b[39m=\u001b[39m_format_argument_list(allow_args)),\n\u001b[0;32m    328\u001b[0m         \u001b[39mFutureWarning\u001b[39;00m,\n\u001b[0;32m    329\u001b[0m         stacklevel\u001b[39m=\u001b[39mfind_stack_level(),\n\u001b[0;32m    330\u001b[0m     )\n\u001b[1;32m--> 331\u001b[0m \u001b[39mreturn\u001b[39;00m func(\u001b[39m*\u001b[39;49margs, \u001b[39m*\u001b[39;49m\u001b[39m*\u001b[39;49mkwargs)\n",
      "File \u001b[1;32mc:\\Users\\vinay\\AppData\\Local\\Programs\\Python\\Python38\\lib\\site-packages\\pandas\\core\\frame.py:5399\u001b[0m, in \u001b[0;36mDataFrame.drop\u001b[1;34m(self, labels, axis, index, columns, level, inplace, errors)\u001b[0m\n\u001b[0;32m   5251\u001b[0m \u001b[39m@deprecate_nonkeyword_arguments\u001b[39m(version\u001b[39m=\u001b[39m\u001b[39mNone\u001b[39;00m, allowed_args\u001b[39m=\u001b[39m[\u001b[39m\"\u001b[39m\u001b[39mself\u001b[39m\u001b[39m\"\u001b[39m, \u001b[39m\"\u001b[39m\u001b[39mlabels\u001b[39m\u001b[39m\"\u001b[39m])\n\u001b[0;32m   5252\u001b[0m \u001b[39mdef\u001b[39;00m \u001b[39mdrop\u001b[39m(  \u001b[39m# type: ignore[override]\u001b[39;00m\n\u001b[0;32m   5253\u001b[0m     \u001b[39mself\u001b[39m,\n\u001b[1;32m   (...)\u001b[0m\n\u001b[0;32m   5260\u001b[0m     errors: IgnoreRaise \u001b[39m=\u001b[39m \u001b[39m\"\u001b[39m\u001b[39mraise\u001b[39m\u001b[39m\"\u001b[39m,\n\u001b[0;32m   5261\u001b[0m ) \u001b[39m-\u001b[39m\u001b[39m>\u001b[39m DataFrame \u001b[39m|\u001b[39m \u001b[39mNone\u001b[39;00m:\n\u001b[0;32m   5262\u001b[0m     \u001b[39m\"\"\"\u001b[39;00m\n\u001b[0;32m   5263\u001b[0m \u001b[39m    Drop specified labels from rows or columns.\u001b[39;00m\n\u001b[0;32m   5264\u001b[0m \n\u001b[1;32m   (...)\u001b[0m\n\u001b[0;32m   5397\u001b[0m \u001b[39m            weight  1.0     0.8\u001b[39;00m\n\u001b[0;32m   5398\u001b[0m \u001b[39m    \"\"\"\u001b[39;00m\n\u001b[1;32m-> 5399\u001b[0m     \u001b[39mreturn\u001b[39;00m \u001b[39msuper\u001b[39;49m()\u001b[39m.\u001b[39;49mdrop(\n\u001b[0;32m   5400\u001b[0m         labels\u001b[39m=\u001b[39;49mlabels,\n\u001b[0;32m   5401\u001b[0m         axis\u001b[39m=\u001b[39;49maxis,\n\u001b[0;32m   5402\u001b[0m         index\u001b[39m=\u001b[39;49mindex,\n\u001b[0;32m   5403\u001b[0m         columns\u001b[39m=\u001b[39;49mcolumns,\n\u001b[0;32m   5404\u001b[0m         level\u001b[39m=\u001b[39;49mlevel,\n\u001b[0;32m   5405\u001b[0m         inplace\u001b[39m=\u001b[39;49minplace,\n\u001b[0;32m   5406\u001b[0m         errors\u001b[39m=\u001b[39;49merrors,\n\u001b[0;32m   5407\u001b[0m     )\n",
      "File \u001b[1;32mc:\\Users\\vinay\\AppData\\Local\\Programs\\Python\\Python38\\lib\\site-packages\\pandas\\util\\_decorators.py:331\u001b[0m, in \u001b[0;36mdeprecate_nonkeyword_arguments.<locals>.decorate.<locals>.wrapper\u001b[1;34m(*args, **kwargs)\u001b[0m\n\u001b[0;32m    325\u001b[0m \u001b[39mif\u001b[39;00m \u001b[39mlen\u001b[39m(args) \u001b[39m>\u001b[39m num_allow_args:\n\u001b[0;32m    326\u001b[0m     warnings\u001b[39m.\u001b[39mwarn(\n\u001b[0;32m    327\u001b[0m         msg\u001b[39m.\u001b[39mformat(arguments\u001b[39m=\u001b[39m_format_argument_list(allow_args)),\n\u001b[0;32m    328\u001b[0m         \u001b[39mFutureWarning\u001b[39;00m,\n\u001b[0;32m    329\u001b[0m         stacklevel\u001b[39m=\u001b[39mfind_stack_level(),\n\u001b[0;32m    330\u001b[0m     )\n\u001b[1;32m--> 331\u001b[0m \u001b[39mreturn\u001b[39;00m func(\u001b[39m*\u001b[39;49margs, \u001b[39m*\u001b[39;49m\u001b[39m*\u001b[39;49mkwargs)\n",
      "File \u001b[1;32mc:\\Users\\vinay\\AppData\\Local\\Programs\\Python\\Python38\\lib\\site-packages\\pandas\\core\\generic.py:4505\u001b[0m, in \u001b[0;36mNDFrame.drop\u001b[1;34m(self, labels, axis, index, columns, level, inplace, errors)\u001b[0m\n\u001b[0;32m   4503\u001b[0m \u001b[39mfor\u001b[39;00m axis, labels \u001b[39min\u001b[39;00m axes\u001b[39m.\u001b[39mitems():\n\u001b[0;32m   4504\u001b[0m     \u001b[39mif\u001b[39;00m labels \u001b[39mis\u001b[39;00m \u001b[39mnot\u001b[39;00m \u001b[39mNone\u001b[39;00m:\n\u001b[1;32m-> 4505\u001b[0m         obj \u001b[39m=\u001b[39m obj\u001b[39m.\u001b[39;49m_drop_axis(labels, axis, level\u001b[39m=\u001b[39;49mlevel, errors\u001b[39m=\u001b[39;49merrors)\n\u001b[0;32m   4507\u001b[0m \u001b[39mif\u001b[39;00m inplace:\n\u001b[0;32m   4508\u001b[0m     \u001b[39mself\u001b[39m\u001b[39m.\u001b[39m_update_inplace(obj)\n",
      "File \u001b[1;32mc:\\Users\\vinay\\AppData\\Local\\Programs\\Python\\Python38\\lib\\site-packages\\pandas\\core\\generic.py:4546\u001b[0m, in \u001b[0;36mNDFrame._drop_axis\u001b[1;34m(self, labels, axis, level, errors, only_slice)\u001b[0m\n\u001b[0;32m   4544\u001b[0m         new_axis \u001b[39m=\u001b[39m axis\u001b[39m.\u001b[39mdrop(labels, level\u001b[39m=\u001b[39mlevel, errors\u001b[39m=\u001b[39merrors)\n\u001b[0;32m   4545\u001b[0m     \u001b[39melse\u001b[39;00m:\n\u001b[1;32m-> 4546\u001b[0m         new_axis \u001b[39m=\u001b[39m axis\u001b[39m.\u001b[39;49mdrop(labels, errors\u001b[39m=\u001b[39;49merrors)\n\u001b[0;32m   4547\u001b[0m     indexer \u001b[39m=\u001b[39m axis\u001b[39m.\u001b[39mget_indexer(new_axis)\n\u001b[0;32m   4549\u001b[0m \u001b[39m# Case for non-unique axis\u001b[39;00m\n\u001b[0;32m   4550\u001b[0m \u001b[39melse\u001b[39;00m:\n",
      "File \u001b[1;32mc:\\Users\\vinay\\AppData\\Local\\Programs\\Python\\Python38\\lib\\site-packages\\pandas\\core\\indexes\\base.py:6934\u001b[0m, in \u001b[0;36mIndex.drop\u001b[1;34m(self, labels, errors)\u001b[0m\n\u001b[0;32m   6932\u001b[0m \u001b[39mif\u001b[39;00m mask\u001b[39m.\u001b[39many():\n\u001b[0;32m   6933\u001b[0m     \u001b[39mif\u001b[39;00m errors \u001b[39m!=\u001b[39m \u001b[39m\"\u001b[39m\u001b[39mignore\u001b[39m\u001b[39m\"\u001b[39m:\n\u001b[1;32m-> 6934\u001b[0m         \u001b[39mraise\u001b[39;00m \u001b[39mKeyError\u001b[39;00m(\u001b[39mf\u001b[39m\u001b[39m\"\u001b[39m\u001b[39m{\u001b[39;00m\u001b[39mlist\u001b[39m(labels[mask])\u001b[39m}\u001b[39;00m\u001b[39m not found in axis\u001b[39m\u001b[39m\"\u001b[39m)\n\u001b[0;32m   6935\u001b[0m     indexer \u001b[39m=\u001b[39m indexer[\u001b[39m~\u001b[39mmask]\n\u001b[0;32m   6936\u001b[0m \u001b[39mreturn\u001b[39;00m \u001b[39mself\u001b[39m\u001b[39m.\u001b[39mdelete(indexer)\n",
      "\u001b[1;31mKeyError\u001b[0m: \"['const'] not found in axis\""
     ]
    }
   ],
   "source": [
    "# Clean up... just a quirk of this particular model\n",
    "df = df.drop(columns=['const'])"
   ]
  },
  {
   "cell_type": "markdown",
   "id": "50282470-b060-4e0c-a084-d5d2025ab9be",
   "metadata": {},
   "source": [
    "## Describe the results"
   ]
  },
  {
   "cell_type": "code",
   "execution_count": 34,
   "id": "2b8a8e01-5aec-447a-b6f5-10480cb8baf1",
   "metadata": {},
   "outputs": [
    {
     "data": {
      "text/plain": [
       "count    22632.000000\n",
       "mean         0.864788\n",
       "std          2.306911\n",
       "min          0.000000\n",
       "25%          0.000000\n",
       "50%          0.070000\n",
       "75%          1.020000\n",
       "max         31.060000\n",
       "Name: cost_forecast_oe_ratio, dtype: float64"
      ]
     },
     "execution_count": 34,
     "metadata": {},
     "output_type": "execute_result"
    }
   ],
   "source": [
    "df['cost_forecast_oe_ratio'].describe()"
   ]
  },
  {
   "cell_type": "code",
   "execution_count": 29,
   "id": "0dcc8e01",
   "metadata": {},
   "outputs": [],
   "source": [
    "#clip the outliers to 5\n",
    "\n",
    "df['cost_forecast_oe_ratio'] = df['cost_forecast_oe_ratio'].clip(upper=5)\n"
   ]
  },
  {
   "attachments": {},
   "cell_type": "markdown",
   "id": "70287afe",
   "metadata": {},
   "source": []
  },
  {
   "cell_type": "code",
   "execution_count": 30,
   "id": "2ac7c7cf-4b81-47dc-9a4b-142f79544b0d",
   "metadata": {},
   "outputs": [
    {
     "data": {
      "image/png": "[encoded data removed]",
      "text/plain": [
       "<Figure size 640x480 with 1 Axes>"
      ]
     },
     "metadata": {},
     "output_type": "display_data"
    }
   ],
   "source": [
    "import matplotlib.pyplot as plt\n",
    "df['cost_forecast_oe_ratio'].hist(bins=100)\n",
    "plt.show()"
   ]
  },
  {
   "cell_type": "code",
   "execution_count": 30,
   "id": "56b222ef",
   "metadata": {},
   "outputs": [
    {
     "data": {
      "text/plain": [
       "id\n",
       "53e40e98-c764-53a4-aaf6-6318a3c3c95d    0.74\n",
       "c87850c0-6c2e-7312-b050-cfcc2a74be53    3.71\n",
       "0c99afa9-03c2-f695-efe2-7943262bbbc7    0.00\n",
       "5e8c9aa2-90da-8e27-7d6f-c6b0faf50169    0.00\n",
       "ce8b6d28-f7a3-8427-6ca6-0f01fc5422d4    0.00\n",
       "                                        ... \n",
       "9e386110-9e48-346c-7363-86669d6cfa8d    0.28\n",
       "f2ad9924-0e5e-4ed4-a600-bc4341c440b6    1.09\n",
       "b3882e05-5ad3-36d9-8822-d5ff0fe187bb    0.00\n",
       "69426d6b-5c07-b1b7-41fc-060a788819c8    0.00\n",
       "9fdfb702-0f46-8899-fe8c-363733532bb6    0.95\n",
       "Name: cost_forecast_oe_ratio, Length: 22632, dtype: float64"
      ]
     },
     "execution_count": 30,
     "metadata": {},
     "output_type": "execute_result"
    }
   ],
   "source": [
    "df['cost_forecast_oe_ratio']"
   ]
  },
  {
   "cell_type": "markdown",
   "id": "71a04e91-a52f-4e6d-85ef-1369b8baece6",
   "metadata": {},
   "source": [
    "## Output"
   ]
  },
  {
   "cell_type": "code",
   "execution_count": 36,
   "id": "059c99a4-2b6c-4230-b0ea-2c7623b6e41f",
   "metadata": {},
   "outputs": [],
   "source": [
    "df.to_excel('w5e4_patient_cost_forecast_oe.xlsx')"
   ]
  },
  {
   "cell_type": "code",
   "execution_count": null,
   "id": "15458e45",
   "metadata": {},
   "outputs": [],
   "source": [
    "  "
   ]
  },
  {
   "cell_type": "code",
   "execution_count": 1,
   "id": "0c072ef1-c8c6-4de7-a160-f4be461fc7c4",
   "metadata": {},
   "outputs": [],
   "source": [
    "!pip "
   ]
  },
  {
   "cell_type": "code",
   "execution_count": null,
   "id": "8d63435b",
   "metadata": {},
   "outputs": [],
   "source": []
  }
 ],
 "metadata": {
  "kernelspec": {
   "display_name": "Python 3",
   "language": "python",
   "name": "python3"
  },
  "language_info": {
   "codemirror_mode": {
    "name": "ipython",
    "version": 3
   },
   "file_extension": ".py",
   "mimetype": "text/x-python",
   "name": "python",
   "nbconvert_exporter": "python",
   "pygments_lexer": "ipython3",
   "version": "3.8.10"
  },
  "vscode": {
   "interpreter": {
    "hash": "e5fb2c28fb4ea9cc6ce4083cb5e83ea3e2521b21f80ec33cc90b80e890da9060"
   }
  }
 },
 "nbformat": 4,
 "nbformat_minor": 5
}
