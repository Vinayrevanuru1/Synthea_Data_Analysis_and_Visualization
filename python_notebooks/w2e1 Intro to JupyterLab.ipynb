{
 "cells": [
  {
   "cell_type": "markdown",
   "id": "cd1de538-8df2-40d4-9d03-606941dba936",
   "metadata": {},
   "source": [
    "# Week 2 Exercise 1 (w2e1)\n",
    "## Introduction to JupyterLab"
   ]
  },
  {
   "cell_type": "code",
   "execution_count": 1,
   "id": "cc74460c-96e1-4a51-ab81-7358cc61b185",
   "metadata": {},
   "outputs": [
    {
     "data": {
      "text/plain": [
       "8"
      ]
     },
     "execution_count": 1,
     "metadata": {},
     "output_type": "execute_result"
    }
   ],
   "source": [
    "# This is a comment (not executed by the interpreter)\n",
    "a = 5\n",
    "b = 3\n",
    "a + b"
   ]
  },
  {
   "cell_type": "code",
   "execution_count": 2,
   "id": "a6b7cbce-7859-4342-8227-18f8232c0055",
   "metadata": {},
   "outputs": [],
   "source": [
    "# AFTER THIS COMMENT, see if you can add 5 + 10 and output the result\n"
   ]
  },
  {
   "cell_type": "code",
   "execution_count": 3,
   "id": "c3407d44-f511-4f3a-9121-320d424f626b",
   "metadata": {},
   "outputs": [
    {
     "name": "stdout",
     "output_type": "stream",
     "text": [
      "Hello world!\n"
     ]
    }
   ],
   "source": [
    "# This is an example of a function call\n",
    "print('Hello world!')"
   ]
  },
  {
   "cell_type": "code",
   "execution_count": 4,
   "id": "313d64a4-5094-41c1-92b6-1fb3f79dd362",
   "metadata": {},
   "outputs": [],
   "source": [
    "# AFTER THIS COMMENT, see if you can output the following text without the quotes: 'JupyterLab'\n"
   ]
  },
  {
   "cell_type": "code",
   "execution_count": 5,
   "id": "602a62f9-c3db-4bf2-b7ec-4a7c512e17f9",
   "metadata": {},
   "outputs": [
    {
     "name": "stdout",
     "output_type": "stream",
     "text": [
      "Patient Name: Baird, Aaron\n"
     ]
    }
   ],
   "source": [
    "# We can also work with strings\n",
    "firstname = 'Aaron'\n",
    "lastname = 'Baird'\n",
    "print(f'Patient Name: {lastname}, {firstname}')"
   ]
  },
  {
   "cell_type": "code",
   "execution_count": 6,
   "id": "c4b4eeec-c460-44e4-ba77-94a45db0d6f0",
   "metadata": {},
   "outputs": [],
   "source": [
    "# AFTER THIS COMMENT, see if you can use two variables and a print statement to output: 'Hospital: Emory Midtown, Atlanta'\n"
   ]
  },
  {
   "cell_type": "code",
   "execution_count": null,
   "id": "7b4570a5",
   "metadata": {},
   "outputs": [],
   "source": []
  }
 ],
 "metadata": {
  "kernelspec": {
   "display_name": "Python 3 (ipykernel)",
   "language": "python",
   "name": "python3"
  },
  "language_info": {
   "codemirror_mode": {
    "name": "ipython",
    "version": 3
   },
   "file_extension": ".py",
   "mimetype": "text/x-python",
   "name": "python",
   "nbconvert_exporter": "python",
   "pygments_lexer": "ipython3",
   "version": "3.8.10"
  }
 },
 "nbformat": 4,
 "nbformat_minor": 5
}
