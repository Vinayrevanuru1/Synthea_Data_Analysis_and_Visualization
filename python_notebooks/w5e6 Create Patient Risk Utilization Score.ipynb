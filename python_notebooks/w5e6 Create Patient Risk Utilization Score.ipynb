{
 "cells": [
  {
   "cell_type": "markdown",
   "id": "73980d26-547c-490a-9469-afc13718eaa0",
   "metadata": {},
   "source": [
    "# Week 5 Exercise 6\n",
    "## Create a High Cost Risk Score"
   ]
  },
  {
   "cell_type": "code",
   "execution_count": 1,
   "id": "cd3c12d8-12d7-498d-8eba-d7d3055468c3",
   "metadata": {},
   "outputs": [],
   "source": [
    "#importing necessary libraries\n",
    "import pandas as pd\n"
   ]
  },
  {
   "cell_type": "code",
   "execution_count": 2,
   "id": "2f6ec381-ca00-4a87-b155-00cdec3f8842",
   "metadata": {},
   "outputs": [],
   "source": [
    "\n",
    "#reading the excel file\n",
    "df = pd.read_excel('w5e4_patient_cost_forecast_oe.xlsx',index_col='id')"
   ]
  },
  {
   "cell_type": "code",
   "execution_count": 4,
   "id": "60322598-40af-4710-a5dd-891300bbd1f0",
   "metadata": {},
   "outputs": [
    {
     "name": "stdout",
     "output_type": "stream",
     "text": [
      "<class 'pandas.core.frame.DataFrame'>\n",
      "Index: 22632 entries, 53e40e98-c764-53a4-aaf6-6318a3c3c95d to 9fdfb702-0f46-8899-fe8c-363733532bb6\n",
      "Data columns (total 140 columns):\n",
      " #    Column                                     Dtype  \n",
      "---   ------                                     -----  \n",
      " 0    first                                      object \n",
      " 1    last                                       object \n",
      " 2    city                                       object \n",
      " 3    state                                      object \n",
      " 4    county                                     object \n",
      " 5    fips                                       int64  \n",
      " 6    lat                                        float64\n",
      " 7    lon                                        float64\n",
      " 8    birthdate                                  object \n",
      " 9    marital                                    object \n",
      " 10   race                                       object \n",
      " 11   ethnicity                                  object \n",
      " 12   gender                                     object \n",
      " 13   cost_lifetime                              int64  \n",
      " 14   income                                     int64  \n",
      " 15   age                                        int64  \n",
      " 16   insurancetype                              object \n",
      " 17   education                                  object \n",
      " 18   numof_allergies                            int64  \n",
      " 19   numof_careplans                            int64  \n",
      " 20   numof_devices                              int64  \n",
      " 21   numof_medications                          int64  \n",
      " 22   numof_procedures_2yr                       int64  \n",
      " 23   numof_med_conds                            int64  \n",
      " 24   numof_soc_challs                           int64  \n",
      " 25   numof_enc_ambulatory_2yr                   int64  \n",
      " 26   numof_enc_emergency_2yr                    int64  \n",
      " 27   numof_enc_home_2yr                         int64  \n",
      " 28   numof_enc_hospice_2yr                      int64  \n",
      " 29   numof_enc_inpatient_2yr                    int64  \n",
      " 30   numof_enc_outpatient_2yr                   int64  \n",
      " 31   numof_enc_snf_2yr                          int64  \n",
      " 32   numof_enc_urgentcare_2yr                   int64  \n",
      " 33   numof_enc_virtual_2yr                      int64  \n",
      " 34   numof_enc_wellness_2yr                     int64  \n",
      " 35   enc_wellness_visit_most_recent             object \n",
      " 36   enc_wellness_visit_most_recent_dayssince   int64  \n",
      " 37   enc_wellness_visit_within18months          bool   \n",
      " 38   enc_ed_visit_most_recent                   object \n",
      " 39   enc_ed_visit_most_recent_dayssince         float64\n",
      " 40   enc_inpatient_visit_most_recent            object \n",
      " 41   enc_inpatient_visit_most_recent_dayssince  float64\n",
      " 42   obs_bmi_most_recent                        float64\n",
      " 43   obs_bmi_most_recent_date                   object \n",
      " 44   cond_bmi_30plus                            bool   \n",
      " 45   cond_bmi_30plus_start                      object \n",
      " 46   cond_bmi_30plus_start_dayssince            float64\n",
      " 47   cond_diab                                  bool   \n",
      " 48   cond_diab_start                            object \n",
      " 49   cond_diab_start_dayssince                  float64\n",
      " 50   obs_hba1c_most_recent                      float64\n",
      " 51   obs_hba1c_most_recent_date                 object \n",
      " 52   cond_hyp                                   bool   \n",
      " 53   cond_hyp_start                             object \n",
      " 54   cond_hyp_start_dayssince                   float64\n",
      " 55   obs_bp_dia_most_recent                     float64\n",
      " 56   obs_bp_dia_most_recent_date                object \n",
      " 57   obs_bp_sys_most_recent                     float64\n",
      " 58   obs_bp_sys_most_recent_date                object \n",
      " 59   cond_mentalhealth                          bool   \n",
      " 60   cond_mentalhealth_start                    object \n",
      " 61   cond_mentalhealth_start_dayssince          float64\n",
      " 62   cond_substance                             bool   \n",
      " 63   cond_substance_start                       object \n",
      " 64   cond_substance_start_dayssince             float64\n",
      " 65   cond_asthma                                bool   \n",
      " 66   cond_asthma_start                          object \n",
      " 67   cond_asthma_start_dayssince                float64\n",
      " 68   cond_cardiac                               bool   \n",
      " 69   cond_cardiac_start                         object \n",
      " 70   cond_cardiac_start_dayssince               float64\n",
      " 71   cond_cancer                                bool   \n",
      " 72   cond_cancer_start                          object \n",
      " 73   cond_cancer_start_dayssince                float64\n",
      " 74   cond_kidney                                bool   \n",
      " 75   cond_kidney_start                          object \n",
      " 76   cond_kidney_start_dayssince                float64\n",
      " 77   cond_stroke                                bool   \n",
      " 78   cond_stroke_start                          float64\n",
      " 79   cond_stroke_start_dayssince                float64\n",
      " 80   cond_sepsis                                bool   \n",
      " 81   cond_sepsis_start                          object \n",
      " 82   cond_sepsis_start_dayssince                float64\n",
      " 83   cond_total_dayssince                       int64  \n",
      " 84   cost_total_2yr                             int64  \n",
      " 85   cost_enc_2yr_highcost_reason               object \n",
      " 86   cost_enc_2yr_highcost_cost                 float64\n",
      " 87   cost_proc_2yr_highcost_reason              object \n",
      " 88   cost_proc_2yr_highcost_count               int64  \n",
      " 89   cost_proc_2yr_highcost_sumcost             int64  \n",
      " 90   state_abbr                                 object \n",
      " 91   county_name                                object \n",
      " 92   ahrf_pop_est_2020                          int64  \n",
      " 93   ahrf_pop_den_2010                          float64\n",
      " 94   ahrf_phys_pricare                          int64  \n",
      " 95   ahrf_phys_total                            int64  \n",
      " 96   ahrf_hosp_total                            int64  \n",
      " 97   ahrf_hosp_cah                              int64  \n",
      " 98   ahrf_hosp_with_ed                          int64  \n",
      " 99   ahrf_hosp_with_offcampus_ed                int64  \n",
      " 100  ahrf_hosp_with_pedsed                      int64  \n",
      " 101  ahrf_hosp_with_traumactr                   int64  \n",
      " 102  ahrf_ed_visits                             int64  \n",
      " 103  ahrf_ed_visits_per_capita                  float64\n",
      " 104  ahrf_phys_pricare_per_2000                 float64\n",
      " 105  chr_healthoutcomes_rank                    int64  \n",
      " 106  chr_healthoutcomes_quartile                int64  \n",
      " 107  chr_healthfactors_rank                     int64  \n",
      " 108  chr_healthfactors_quartile                 int64  \n",
      " 109  chr_lengthoflife_rank                      int64  \n",
      " 110  chr_lengthoflife_quartile                  int64  \n",
      " 111  chr_qualityoflife_rank                     int64  \n",
      " 112  chr_qualityoflife_quartile                 int64  \n",
      " 113  chr_healthbehaviors_rank                   int64  \n",
      " 114  chr_healthbehaviors_quartile               int64  \n",
      " 115  chr_clinicalcare_rank                      int64  \n",
      " 116  chr_clinicalcare_quartile                  int64  \n",
      " 117  chr_sesfactors_rank                        int64  \n",
      " 118  chr_sesfactors_quartile                    int64  \n",
      " 119  chr_physenv_rank                           int64  \n",
      " 120  chr_physenv_quartile                       int64  \n",
      " 121  svi_perc                                   float64\n",
      " 122  svi_ses_perc                               float64\n",
      " 123  svi_hcd_perc                               float64\n",
      " 124  svi_msl_perc                               float64\n",
      " 125  svi_htt_perc                               float64\n",
      " 126  syn_provider_count                         int64  \n",
      " 127  comm_health_needs_score                    float64\n",
      " 128  risk_score_morbidity                       float64\n",
      " 129  risk_score_diab                            float64\n",
      " 130  risk_score_hyp                             float64\n",
      " 131  cost_yearminus5                            float64\n",
      " 132  cost_yearminus4                            float64\n",
      " 133  cost_yearminus3                            float64\n",
      " 134  cost_yearminus2                            float64\n",
      " 135  cost_yearminus1                            float64\n",
      " 136  cost_year0                                 float64\n",
      " 137  cost_yearplus1                             float64\n",
      " 138  cost_refgroup_predicted                    float64\n",
      " 139  cost_forecast_oe_ratio                     float64\n",
      "dtypes: bool(12), float64(42), int64(53), object(33)\n",
      "memory usage: 22.5+ MB\n"
     ]
    }
   ],
   "source": [
    "\n",
    "#get the information aout the dataframe\n",
    "df.info(verbose=True)"
   ]
  },
  {
   "cell_type": "markdown",
   "id": "f4c6da30-56ac-4085-bb13-534c2bcb75e4",
   "metadata": {},
   "source": [
    "## Feature engineering: RFM (recency, frequency, monetary)?"
   ]
  },
  {
   "attachments": {},
   "cell_type": "markdown",
   "id": "67198792-2a9a-43c2-925d-535193ef4fff",
   "metadata": {
    "tags": []
   },
   "source": [
    "## Machine Learning \n",
    "\n",
    "# Divide the dataset into labels (y) and samples/predictors (X)\n",
    "\n",
    " One option is to focus on total cost\n",
    " Median (50% percentile) split\n",
    " \n",
    " y = (df['cost_total_2yr'] > df['cost_total_2yr'].quantile(0.5)).astype('int')\n",
    "\n",
    " Another option is to focus on the OE ratio (i.e., above average or not)\n",
    " When focusing on the OE ratio, can either be a median/quantile split...\n",
    " \n",
    "y = (df['cost_oe_ratio'] > df['cost_oe_ratio'].quantile(0.50)).astype('int')\n",
    "\n",
    " Or can be a threshold... I chose to go with a threshold and an OE greater than 2 (i.e., 2 times above average for the reference group)"
   ]
  },
  {
   "cell_type": "code",
   "execution_count": 6,
   "id": "d653d51b-8984-4787-bd4c-65e72211e572",
   "metadata": {},
   "outputs": [
    {
     "data": {
      "text/plain": [
       "0    17297\n",
       "1     5335\n",
       "Name: cost_forecast_oe_ratio, dtype: int64"
      ]
     },
     "execution_count": 6,
     "metadata": {},
     "output_type": "execute_result"
    }
   ],
   "source": [
    "#create a new label y that is true if the cost_forecast_oe_ratio is greater than 2\n",
    "#function astype('int') converts True to 1 and False to 0\n",
    "y = (df['cost_forecast_oe_ratio'] > 2).astype('int')\n",
    "y.value_counts()"
   ]
  },
  {
   "cell_type": "code",
   "execution_count": 8,
   "id": "99a58e8e-b9ac-459c-aee8-67f92b1761d5",
   "metadata": {
    "tags": []
   },
   "outputs": [],
   "source": [
    "# Set X to features that may explain utilization (and overall cost score)\n",
    "# Note: Just picked everything related to encounter utilization: all numof_enc columns\n",
    "cols_numof = [col for col in df.columns if 'numof_enc' in col]\n",
    "X = df[cols_numof]\n",
    "X = pd.concat([X, df['numof_procedures_2yr']], axis=1)"
   ]
  },
  {
   "cell_type": "code",
   "execution_count": 9,
   "id": "a365351a-f719-4ba7-b270-70b73e6aef70",
   "metadata": {},
   "outputs": [],
   "source": [
    "# Split into test and train for both X (predictors) and y (targets/labels)\n",
    "from sklearn.model_selection import train_test_split\n",
    "X_train, X_test, y_train, y_test = train_test_split(X, y, random_state = 42)"
   ]
  },
  {
   "cell_type": "code",
   "execution_count": 10,
   "id": "aa496278-2d36-4838-931a-550d97a1b226",
   "metadata": {},
   "outputs": [
    {
     "name": "stdout",
     "output_type": "stream",
     "text": [
      "Accuracy of LogisticRegression: 0.88016967126193\n",
      "Accuracy of DecisionTreeClassifier: 0.8867090844821491\n",
      "Accuracy of RandomForestClassifier: 0.9040296924708378\n",
      "Best model is RandomForestClassifier with accuracy of 0.9040296924708378\n"
     ]
    }
   ],
   "source": [
    "# Run a number of models and check accuracy\n",
    "from sklearn.linear_model import LogisticRegression\n",
    "from sklearn.tree import DecisionTreeClassifier\n",
    "from sklearn.ensemble import RandomForestClassifier\n",
    "from sklearn.metrics import accuracy_score\n",
    "\n",
    "models = {\n",
    "    'LogisticRegression': LogisticRegression(random_state=0, solver='liblinear', max_iter=500),\n",
    "    'DecisionTreeClassifier': DecisionTreeClassifier(max_depth=30),\n",
    "    'RandomForestClassifier': RandomForestClassifier(n_estimators=100, random_state=42)\n",
    "}\n",
    "\n",
    "for name, model in models.items():\n",
    "    model.fit(X_train, y_train)\n",
    "    print('Accuracy of {0}: {1}'.format(name, model.score(X_test, y_test)))\n",
    "\n",
    "\n",
    "#choose the best model based on the accuracy score of above models\n",
    "\n",
    "for name, model in models.items():\n",
    "    if model.score(X_test, y_test) == max([model.score(X_test, y_test) for name, model in models.items()]):\n",
    "        best_model = model\n",
    "        print('Best model is {0} with accuracy of {1}'.format(name, model.score(X_test, y_test)))\n"
   ]
  },
  {
   "cell_type": "markdown",
   "id": "ada37b2f-e69a-418a-bbc8-e59d8c464325",
   "metadata": {},
   "source": [
    "## Create, describe, and save the risk (utilization) score"
   ]
  },
  {
   "cell_type": "code",
   "execution_count": 11,
   "id": "b47769f2-2915-4599-a985-64852b5f037f",
   "metadata": {},
   "outputs": [],
   "source": [
    "# Get the probabilities for both classes: 0 in col 1, and 1 in col 1\n",
    "result = model.predict_proba(X)\n",
    "df['risk_score_cost'] = result[:,1] # only need probability for 1 (column 2, but zero indexed)\n",
    "\n",
    "# Round and rescale to be percentage (i.e., multiple by 100)\n",
    "df['risk_score_cost'] = df['risk_score_cost'].astype(float).round(4) * 100"
   ]
  },
  {
   "cell_type": "code",
   "execution_count": 12,
   "id": "bca6bcf2-554e-4dc9-bf88-2055d3d4a9c9",
   "metadata": {},
   "outputs": [
    {
     "name": "stdout",
     "output_type": "stream",
     "text": [
      "<class 'pandas.core.frame.DataFrame'>\n",
      "Index: 22632 entries, 53e40e98-c764-53a4-aaf6-6318a3c3c95d to 9fdfb702-0f46-8899-fe8c-363733532bb6\n",
      "Columns: 141 entries, first to risk_score_cost\n",
      "dtypes: bool(12), float64(43), int64(53), object(33)\n",
      "memory usage: 23.2+ MB\n"
     ]
    }
   ],
   "source": [
    "df.info()"
   ]
  },
  {
   "cell_type": "code",
   "execution_count": 13,
   "id": "bb2befa1-be7e-43d4-b386-f701c902f72e",
   "metadata": {},
   "outputs": [
    {
     "data": {
      "text/plain": [
       "count    22632.000000\n",
       "mean        23.413968\n",
       "std         37.102163\n",
       "min          0.000000\n",
       "25%          0.000000\n",
       "50%          1.000000\n",
       "75%         31.140000\n",
       "max        100.000000\n",
       "Name: risk_score_cost, dtype: float64"
      ]
     },
     "execution_count": 13,
     "metadata": {},
     "output_type": "execute_result"
    }
   ],
   "source": [
    "df['risk_score_cost'].describe()"
   ]
  },
  {
   "cell_type": "code",
   "execution_count": 14,
   "id": "1b75b05f-3002-48ed-b36a-a3334f54cfd5",
   "metadata": {},
   "outputs": [
    {
     "data": {
      "image/png": "[encoded data removed]",
      "text/plain": [
       "<Figure size 640x480 with 1 Axes>"
      ]
     },
     "metadata": {},
     "output_type": "display_data"
    }
   ],
   "source": [
    "import matplotlib.pyplot as plt\n",
    "df['risk_score_cost'].hist(edgecolor='white')\n",
    "plt.show()"
   ]
  },
  {
   "cell_type": "markdown",
   "id": "0cd4a352-4069-4901-b002-cd0469de909b",
   "metadata": {},
   "source": [
    "## Final list of features and feature importance from the model"
   ]
  },
  {
   "cell_type": "code",
   "execution_count": 15,
   "id": "3717e563-1c79-4e0b-8935-7a3ff4a88608",
   "metadata": {},
   "outputs": [
    {
     "name": "stdout",
     "output_type": "stream",
     "text": [
      "<class 'pandas.core.frame.DataFrame'>\n",
      "Index: 22632 entries, 53e40e98-c764-53a4-aaf6-6318a3c3c95d to 9fdfb702-0f46-8899-fe8c-363733532bb6\n",
      "Data columns (total 141 columns):\n",
      " #    Column                                     Dtype  \n",
      "---   ------                                     -----  \n",
      " 0    first                                      object \n",
      " 1    last                                       object \n",
      " 2    city                                       object \n",
      " 3    state                                      object \n",
      " 4    county                                     object \n",
      " 5    fips                                       int64  \n",
      " 6    lat                                        float64\n",
      " 7    lon                                        float64\n",
      " 8    birthdate                                  object \n",
      " 9    marital                                    object \n",
      " 10   race                                       object \n",
      " 11   ethnicity                                  object \n",
      " 12   gender                                     object \n",
      " 13   cost_lifetime                              int64  \n",
      " 14   income                                     int64  \n",
      " 15   age                                        int64  \n",
      " 16   insurancetype                              object \n",
      " 17   education                                  object \n",
      " 18   numof_allergies                            int64  \n",
      " 19   numof_careplans                            int64  \n",
      " 20   numof_devices                              int64  \n",
      " 21   numof_medications                          int64  \n",
      " 22   numof_procedures_2yr                       int64  \n",
      " 23   numof_med_conds                            int64  \n",
      " 24   numof_soc_challs                           int64  \n",
      " 25   numof_enc_ambulatory_2yr                   int64  \n",
      " 26   numof_enc_emergency_2yr                    int64  \n",
      " 27   numof_enc_home_2yr                         int64  \n",
      " 28   numof_enc_hospice_2yr                      int64  \n",
      " 29   numof_enc_inpatient_2yr                    int64  \n",
      " 30   numof_enc_outpatient_2yr                   int64  \n",
      " 31   numof_enc_snf_2yr                          int64  \n",
      " 32   numof_enc_urgentcare_2yr                   int64  \n",
      " 33   numof_enc_virtual_2yr                      int64  \n",
      " 34   numof_enc_wellness_2yr                     int64  \n",
      " 35   enc_wellness_visit_most_recent             object \n",
      " 36   enc_wellness_visit_most_recent_dayssince   int64  \n",
      " 37   enc_wellness_visit_within18months          bool   \n",
      " 38   enc_ed_visit_most_recent                   object \n",
      " 39   enc_ed_visit_most_recent_dayssince         float64\n",
      " 40   enc_inpatient_visit_most_recent            object \n",
      " 41   enc_inpatient_visit_most_recent_dayssince  float64\n",
      " 42   obs_bmi_most_recent                        float64\n",
      " 43   obs_bmi_most_recent_date                   object \n",
      " 44   cond_bmi_30plus                            bool   \n",
      " 45   cond_bmi_30plus_start                      object \n",
      " 46   cond_bmi_30plus_start_dayssince            float64\n",
      " 47   cond_diab                                  bool   \n",
      " 48   cond_diab_start                            object \n",
      " 49   cond_diab_start_dayssince                  float64\n",
      " 50   obs_hba1c_most_recent                      float64\n",
      " 51   obs_hba1c_most_recent_date                 object \n",
      " 52   cond_hyp                                   bool   \n",
      " 53   cond_hyp_start                             object \n",
      " 54   cond_hyp_start_dayssince                   float64\n",
      " 55   obs_bp_dia_most_recent                     float64\n",
      " 56   obs_bp_dia_most_recent_date                object \n",
      " 57   obs_bp_sys_most_recent                     float64\n",
      " 58   obs_bp_sys_most_recent_date                object \n",
      " 59   cond_mentalhealth                          bool   \n",
      " 60   cond_mentalhealth_start                    object \n",
      " 61   cond_mentalhealth_start_dayssince          float64\n",
      " 62   cond_substance                             bool   \n",
      " 63   cond_substance_start                       object \n",
      " 64   cond_substance_start_dayssince             float64\n",
      " 65   cond_asthma                                bool   \n",
      " 66   cond_asthma_start                          object \n",
      " 67   cond_asthma_start_dayssince                float64\n",
      " 68   cond_cardiac                               bool   \n",
      " 69   cond_cardiac_start                         object \n",
      " 70   cond_cardiac_start_dayssince               float64\n",
      " 71   cond_cancer                                bool   \n",
      " 72   cond_cancer_start                          object \n",
      " 73   cond_cancer_start_dayssince                float64\n",
      " 74   cond_kidney                                bool   \n",
      " 75   cond_kidney_start                          object \n",
      " 76   cond_kidney_start_dayssince                float64\n",
      " 77   cond_stroke                                bool   \n",
      " 78   cond_stroke_start                          float64\n",
      " 79   cond_stroke_start_dayssince                float64\n",
      " 80   cond_sepsis                                bool   \n",
      " 81   cond_sepsis_start                          object \n",
      " 82   cond_sepsis_start_dayssince                float64\n",
      " 83   cond_total_dayssince                       int64  \n",
      " 84   cost_total_2yr                             int64  \n",
      " 85   cost_enc_2yr_highcost_reason               object \n",
      " 86   cost_enc_2yr_highcost_cost                 float64\n",
      " 87   cost_proc_2yr_highcost_reason              object \n",
      " 88   cost_proc_2yr_highcost_count               int64  \n",
      " 89   cost_proc_2yr_highcost_sumcost             int64  \n",
      " 90   state_abbr                                 object \n",
      " 91   county_name                                object \n",
      " 92   ahrf_pop_est_2020                          int64  \n",
      " 93   ahrf_pop_den_2010                          float64\n",
      " 94   ahrf_phys_pricare                          int64  \n",
      " 95   ahrf_phys_total                            int64  \n",
      " 96   ahrf_hosp_total                            int64  \n",
      " 97   ahrf_hosp_cah                              int64  \n",
      " 98   ahrf_hosp_with_ed                          int64  \n",
      " 99   ahrf_hosp_with_offcampus_ed                int64  \n",
      " 100  ahrf_hosp_with_pedsed                      int64  \n",
      " 101  ahrf_hosp_with_traumactr                   int64  \n",
      " 102  ahrf_ed_visits                             int64  \n",
      " 103  ahrf_ed_visits_per_capita                  float64\n",
      " 104  ahrf_phys_pricare_per_2000                 float64\n",
      " 105  chr_healthoutcomes_rank                    int64  \n",
      " 106  chr_healthoutcomes_quartile                int64  \n",
      " 107  chr_healthfactors_rank                     int64  \n",
      " 108  chr_healthfactors_quartile                 int64  \n",
      " 109  chr_lengthoflife_rank                      int64  \n",
      " 110  chr_lengthoflife_quartile                  int64  \n",
      " 111  chr_qualityoflife_rank                     int64  \n",
      " 112  chr_qualityoflife_quartile                 int64  \n",
      " 113  chr_healthbehaviors_rank                   int64  \n",
      " 114  chr_healthbehaviors_quartile               int64  \n",
      " 115  chr_clinicalcare_rank                      int64  \n",
      " 116  chr_clinicalcare_quartile                  int64  \n",
      " 117  chr_sesfactors_rank                        int64  \n",
      " 118  chr_sesfactors_quartile                    int64  \n",
      " 119  chr_physenv_rank                           int64  \n",
      " 120  chr_physenv_quartile                       int64  \n",
      " 121  svi_perc                                   float64\n",
      " 122  svi_ses_perc                               float64\n",
      " 123  svi_hcd_perc                               float64\n",
      " 124  svi_msl_perc                               float64\n",
      " 125  svi_htt_perc                               float64\n",
      " 126  syn_provider_count                         int64  \n",
      " 127  comm_health_needs_score                    float64\n",
      " 128  risk_score_morbidity                       float64\n",
      " 129  risk_score_diab                            float64\n",
      " 130  risk_score_hyp                             float64\n",
      " 131  cost_yearminus5                            float64\n",
      " 132  cost_yearminus4                            float64\n",
      " 133  cost_yearminus3                            float64\n",
      " 134  cost_yearminus2                            float64\n",
      " 135  cost_yearminus1                            float64\n",
      " 136  cost_year0                                 float64\n",
      " 137  cost_yearplus1                             float64\n",
      " 138  cost_refgroup_predicted                    float64\n",
      " 139  cost_forecast_oe_ratio                     float64\n",
      " 140  risk_score_cost                            float64\n",
      "dtypes: bool(12), float64(43), int64(53), object(33)\n",
      "memory usage: 23.2+ MB\n"
     ]
    }
   ],
   "source": [
    "df.info(verbose=True)"
   ]
  },
  {
   "cell_type": "code",
   "execution_count": 16,
   "id": "74240205-fe7f-47a5-aa95-b7fc59a85f53",
   "metadata": {
    "tags": []
   },
   "outputs": [],
   "source": [
    "# Display feature importances... remmber this is just importance, not direction (i.e., pos or neg)\n",
    "feature_importances = pd.DataFrame(best_model.feature_importances_, index = X_train.columns, columns=['importance']).sort_values('importance', ascending=False)"
   ]
  },
  {
   "cell_type": "code",
   "execution_count": 17,
   "id": "f18c073b-b90d-47ff-9ffd-18659d054bc1",
   "metadata": {},
   "outputs": [
    {
     "data": {
      "text/html": [
       "<div>\n",
       "<style scoped>\n",
       "    .dataframe tbody tr th:only-of-type {\n",
       "        vertical-align: middle;\n",
       "    }\n",
       "\n",
       "    .dataframe tbody tr th {\n",
       "        vertical-align: top;\n",
       "    }\n",
       "\n",
       "    .dataframe thead th {\n",
       "        text-align: right;\n",
       "    }\n",
       "</style>\n",
       "<table border=\"1\" class=\"dataframe\">\n",
       "  <thead>\n",
       "    <tr style=\"text-align: right;\">\n",
       "      <th></th>\n",
       "      <th>importance</th>\n",
       "    </tr>\n",
       "  </thead>\n",
       "  <tbody>\n",
       "    <tr>\n",
       "      <th>numof_procedures_2yr</th>\n",
       "      <td>0.406800</td>\n",
       "    </tr>\n",
       "    <tr>\n",
       "      <th>numof_enc_ambulatory_2yr</th>\n",
       "      <td>0.218739</td>\n",
       "    </tr>\n",
       "    <tr>\n",
       "      <th>numof_enc_outpatient_2yr</th>\n",
       "      <td>0.182388</td>\n",
       "    </tr>\n",
       "    <tr>\n",
       "      <th>numof_enc_emergency_2yr</th>\n",
       "      <td>0.056496</td>\n",
       "    </tr>\n",
       "    <tr>\n",
       "      <th>numof_enc_wellness_2yr</th>\n",
       "      <td>0.041913</td>\n",
       "    </tr>\n",
       "    <tr>\n",
       "      <th>numof_enc_urgentcare_2yr</th>\n",
       "      <td>0.041354</td>\n",
       "    </tr>\n",
       "    <tr>\n",
       "      <th>numof_enc_inpatient_2yr</th>\n",
       "      <td>0.025244</td>\n",
       "    </tr>\n",
       "    <tr>\n",
       "      <th>numof_enc_snf_2yr</th>\n",
       "      <td>0.009944</td>\n",
       "    </tr>\n",
       "    <tr>\n",
       "      <th>numof_enc_virtual_2yr</th>\n",
       "      <td>0.009542</td>\n",
       "    </tr>\n",
       "    <tr>\n",
       "      <th>numof_enc_hospice_2yr</th>\n",
       "      <td>0.004952</td>\n",
       "    </tr>\n",
       "    <tr>\n",
       "      <th>numof_enc_home_2yr</th>\n",
       "      <td>0.002628</td>\n",
       "    </tr>\n",
       "  </tbody>\n",
       "</table>\n",
       "</div>"
      ],
      "text/plain": [
       "                          importance\n",
       "numof_procedures_2yr        0.406800\n",
       "numof_enc_ambulatory_2yr    0.218739\n",
       "numof_enc_outpatient_2yr    0.182388\n",
       "numof_enc_emergency_2yr     0.056496\n",
       "numof_enc_wellness_2yr      0.041913\n",
       "numof_enc_urgentcare_2yr    0.041354\n",
       "numof_enc_inpatient_2yr     0.025244\n",
       "numof_enc_snf_2yr           0.009944\n",
       "numof_enc_virtual_2yr       0.009542\n",
       "numof_enc_hospice_2yr       0.004952\n",
       "numof_enc_home_2yr          0.002628"
      ]
     },
     "execution_count": 17,
     "metadata": {},
     "output_type": "execute_result"
    }
   ],
   "source": [
    "feature_importances.head(20)"
   ]
  },
  {
   "cell_type": "markdown",
   "id": "fdd13cee-e924-48f3-9419-a26b8f42874f",
   "metadata": {},
   "source": [
    "## Output"
   ]
  },
  {
   "cell_type": "code",
   "execution_count": 16,
   "id": "b6bf7146-e933-464c-b6bb-e19619387ff5",
   "metadata": {},
   "outputs": [],
   "source": [
    "df.to_excel('w5e6_patient_risk_score_cost.xlsx')"
   ]
  },
  {
   "cell_type": "code",
   "execution_count": null,
   "id": "87e7438b-6b8c-4eff-969e-05611b0483e1",
   "metadata": {},
   "outputs": [],
   "source": []
  },
  {
   "cell_type": "code",
   "execution_count": null,
   "id": "77f2b8ea",
   "metadata": {},
   "outputs": [],
   "source": []
  }
 ],
 "metadata": {
  "kernelspec": {
   "display_name": "Python 3",
   "language": "python",
   "name": "python3"
  },
  "language_info": {
   "codemirror_mode": {
    "name": "ipython",
    "version": 3
   },
   "file_extension": ".py",
   "mimetype": "text/x-python",
   "name": "python",
   "nbconvert_exporter": "python",
   "pygments_lexer": "ipython3",
   "version": "3.8.10"
  },
  "vscode": {
   "interpreter": {
    "hash": "e5fb2c28fb4ea9cc6ce4083cb5e83ea3e2521b21f80ec33cc90b80e890da9060"
   }
  }
 },
 "nbformat": 4,
 "nbformat_minor": 5
}
