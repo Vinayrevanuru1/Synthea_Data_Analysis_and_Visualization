{
 "cells": [
  {
   "cell_type": "markdown",
   "id": "5bb33365-6c15-4259-9a62-883a1ca92bfa",
   "metadata": {},
   "source": [
    "# Week 4 Exercise 0 (just a  demo)\n",
    "## Condition counts"
   ]
  },
  {
   "cell_type": "code",
   "execution_count": 1,
   "id": "46b1d522-f10d-4e0d-8b12-8ed3aa82d931",
   "metadata": {},
   "outputs": [],
   "source": [
    "import pandas as pd"
   ]
  },
  {
   "cell_type": "code",
   "execution_count": 2,
   "id": "953fd1aa-1938-4661-bfe3-23058d118a6d",
   "metadata": {},
   "outputs": [],
   "source": [
    "df = pd.read_csv('w3e1_patient_dataset.csv')\n",
    "df = df.set_index('id')"
   ]
  },
  {
   "cell_type": "code",
   "execution_count": 3,
   "id": "28be6d3d-38f4-4f3a-a405-c275b2cb5b81",
   "metadata": {},
   "outputs": [
    {
     "name": "stdout",
     "output_type": "stream",
     "text": [
      "<class 'pandas.core.frame.DataFrame'>\n",
      "Index: 22632 entries, 53e40e98-c764-53a4-aaf6-6318a3c3c95d to 9fdfb702-0f46-8899-fe8c-363733532bb6\n",
      "Data columns (total 90 columns):\n",
      " #   Column                                     Non-Null Count  Dtype  \n",
      "---  ------                                     --------------  -----  \n",
      " 0   first                                      22632 non-null  object \n",
      " 1   last                                       22632 non-null  object \n",
      " 2   city                                       22632 non-null  object \n",
      " 3   state                                      22632 non-null  object \n",
      " 4   county                                     22632 non-null  object \n",
      " 5   fips                                       22632 non-null  int64  \n",
      " 6   lat                                        22632 non-null  float64\n",
      " 7   lon                                        22632 non-null  float64\n",
      " 8   birthdate                                  22632 non-null  object \n",
      " 9   marital                                    22632 non-null  object \n",
      " 10  race                                       22632 non-null  object \n",
      " 11  ethnicity                                  22632 non-null  object \n",
      " 12  gender                                     22632 non-null  object \n",
      " 13  cost_lifetime                              22632 non-null  int64  \n",
      " 14  income                                     22632 non-null  int64  \n",
      " 15  age                                        22632 non-null  int64  \n",
      " 16  insurancetype                              22632 non-null  object \n",
      " 17  education                                  22632 non-null  object \n",
      " 18  numof_allergies                            22632 non-null  int64  \n",
      " 19  numof_careplans                            22632 non-null  int64  \n",
      " 20  numof_devices                              22632 non-null  int64  \n",
      " 21  numof_medications                          22632 non-null  int64  \n",
      " 22  numof_procedures_2yr                       22632 non-null  int64  \n",
      " 23  numof_med_conds                            22632 non-null  int64  \n",
      " 24  numof_soc_challs                           22632 non-null  int64  \n",
      " 25  numof_enc_ambulatory_2yr                   22632 non-null  int64  \n",
      " 26  numof_enc_emergency_2yr                    22632 non-null  int64  \n",
      " 27  numof_enc_home_2yr                         22632 non-null  int64  \n",
      " 28  numof_enc_hospice_2yr                      22632 non-null  int64  \n",
      " 29  numof_enc_inpatient_2yr                    22632 non-null  int64  \n",
      " 30  numof_enc_outpatient_2yr                   22632 non-null  int64  \n",
      " 31  numof_enc_snf_2yr                          22632 non-null  int64  \n",
      " 32  numof_enc_urgentcare_2yr                   22632 non-null  int64  \n",
      " 33  numof_enc_virtual_2yr                      22632 non-null  int64  \n",
      " 34  numof_enc_wellness_2yr                     22632 non-null  int64  \n",
      " 35  enc_wellness_visit_most_recent             22632 non-null  object \n",
      " 36  enc_wellness_visit_most_recent_dayssince   22632 non-null  int64  \n",
      " 37  enc_wellness_visit_within18months          22632 non-null  bool   \n",
      " 38  enc_ed_visit_most_recent                   13446 non-null  object \n",
      " 39  enc_ed_visit_most_recent_dayssince         13446 non-null  float64\n",
      " 40  enc_inpatient_visit_most_recent            7295 non-null   object \n",
      " 41  enc_inpatient_visit_most_recent_dayssince  7295 non-null   float64\n",
      " 42  obs_bmi_most_recent                        21919 non-null  float64\n",
      " 43  obs_bmi_most_recent_date                   21919 non-null  object \n",
      " 44  cond_bmi_30plus                            22632 non-null  bool   \n",
      " 45  cond_bmi_30plus_start                      10051 non-null  object \n",
      " 46  cond_bmi_30plus_start_dayssince            10051 non-null  float64\n",
      " 47  cond_diab                                  22632 non-null  bool   \n",
      " 48  cond_diab_start                            9701 non-null   object \n",
      " 49  cond_diab_start_dayssince                  9701 non-null   float64\n",
      " 50  obs_hba1c_most_recent                      8838 non-null   float64\n",
      " 51  obs_hba1c_most_recent_date                 8838 non-null   object \n",
      " 52  cond_hyp                                   22632 non-null  bool   \n",
      " 53  cond_hyp_start                             8503 non-null   object \n",
      " 54  cond_hyp_start_dayssince                   8503 non-null   float64\n",
      " 55  obs_bp_dia_most_recent                     22631 non-null  float64\n",
      " 56  obs_bp_dia_most_recent_date                22631 non-null  object \n",
      " 57  obs_bp_sys_most_recent                     22631 non-null  float64\n",
      " 58  obs_bp_sys_most_recent_date                22631 non-null  object \n",
      " 59  cond_mentalhealth                          22632 non-null  bool   \n",
      " 60  cond_mentalhealth_start                    10284 non-null  object \n",
      " 61  cond_mentalhealth_start_dayssince          10284 non-null  float64\n",
      " 62  cond_substance                             22632 non-null  bool   \n",
      " 63  cond_substance_start                       1809 non-null   object \n",
      " 64  cond_substance_start_dayssince             1809 non-null   float64\n",
      " 65  cond_asthma                                22632 non-null  bool   \n",
      " 66  cond_asthma_start                          42 non-null     object \n",
      " 67  cond_asthma_start_dayssince                42 non-null     float64\n",
      " 68  cond_cardiac                               22632 non-null  bool   \n",
      " 69  cond_cardiac_start                         1439 non-null   object \n",
      " 70  cond_cardiac_start_dayssince               1439 non-null   float64\n",
      " 71  cond_cancer                                22632 non-null  bool   \n",
      " 72  cond_cancer_start                          787 non-null    object \n",
      " 73  cond_cancer_start_dayssince                787 non-null    float64\n",
      " 74  cond_kidney                                22632 non-null  bool   \n",
      " 75  cond_kidney_start                          2994 non-null   object \n",
      " 76  cond_kidney_start_dayssince                2994 non-null   float64\n",
      " 77  cond_stroke                                22632 non-null  bool   \n",
      " 78  cond_stroke_start                          0 non-null      float64\n",
      " 79  cond_stroke_start_dayssince                0 non-null      float64\n",
      " 80  cond_sepsis                                22632 non-null  bool   \n",
      " 81  cond_sepsis_start                          708 non-null    object \n",
      " 82  cond_sepsis_start_dayssince                708 non-null    float64\n",
      " 83  cond_total_dayssince                       22632 non-null  int64  \n",
      " 84  cost_total_2yr                             22632 non-null  int64  \n",
      " 85  cost_enc_2yr_highcost_reason               22632 non-null  object \n",
      " 86  cost_enc_2yr_highcost_cost                 15639 non-null  float64\n",
      " 87  cost_proc_2yr_highcost_reason              22632 non-null  object \n",
      " 88  cost_proc_2yr_highcost_count               22632 non-null  int64  \n",
      " 89  cost_proc_2yr_highcost_sumcost             22632 non-null  int64  \n",
      "dtypes: bool(12), float64(21), int64(26), object(31)\n",
      "memory usage: 13.9+ MB\n"
     ]
    }
   ],
   "source": [
    "df.info()"
   ]
  },
  {
   "cell_type": "code",
   "execution_count": 4,
   "id": "69079687-a7e2-4567-bc1c-f7fef4ccbab5",
   "metadata": {
    "tags": []
   },
   "outputs": [
    {
     "data": {
      "text/plain": [
       "False    12348\n",
       "True     10284\n",
       "Name: cond_mentalhealth, dtype: int64"
      ]
     },
     "execution_count": 4,
     "metadata": {},
     "output_type": "execute_result"
    }
   ],
   "source": [
    "df['cond_mentalhealth'].value_counts()"
   ]
  },
  {
   "cell_type": "code",
   "execution_count": 5,
   "id": "86b76604-ccfb-4288-9957-79dabe7896b9",
   "metadata": {
    "tags": []
   },
   "outputs": [
    {
     "data": {
      "text/plain": [
       "False    12581\n",
       "True     10051\n",
       "Name: cond_bmi_30plus, dtype: int64"
      ]
     },
     "execution_count": 5,
     "metadata": {},
     "output_type": "execute_result"
    }
   ],
   "source": [
    "df['cond_bmi_30plus'].value_counts()"
   ]
  },
  {
   "cell_type": "code",
   "execution_count": 6,
   "id": "c34840cc-5493-4f55-b237-6a6d79d70040",
   "metadata": {},
   "outputs": [
    {
     "data": {
      "text/plain": [
       "False    14129\n",
       "True      8503\n",
       "Name: cond_hyp, dtype: int64"
      ]
     },
     "execution_count": 6,
     "metadata": {},
     "output_type": "execute_result"
    }
   ],
   "source": [
    "df['cond_hyp'].value_counts()"
   ]
  },
  {
   "cell_type": "code",
   "execution_count": 7,
   "id": "00769c2d-d033-46bd-bdf3-30143df9fd52",
   "metadata": {},
   "outputs": [
    {
     "data": {
      "text/plain": [
       "False    12931\n",
       "True      9701\n",
       "Name: cond_diab, dtype: int64"
      ]
     },
     "execution_count": 7,
     "metadata": {},
     "output_type": "execute_result"
    }
   ],
   "source": [
    "df['cond_diab'].value_counts()"
   ]
  },
  {
   "cell_type": "code",
   "execution_count": 8,
   "id": "18e0b316-8c86-4964-873a-1b71dae9da6a",
   "metadata": {},
   "outputs": [
    {
     "data": {
      "text/plain": [
       "False    21193\n",
       "True      1439\n",
       "Name: cond_cardiac, dtype: int64"
      ]
     },
     "execution_count": 8,
     "metadata": {},
     "output_type": "execute_result"
    }
   ],
   "source": [
    "df['cond_cardiac'].value_counts()"
   ]
  },
  {
   "cell_type": "code",
   "execution_count": 9,
   "id": "34853c40-25ec-4787-bc3c-a75168e77233",
   "metadata": {
    "tags": []
   },
   "outputs": [
    {
     "data": {
      "text/plain": [
       "False    19638\n",
       "True      2994\n",
       "Name: cond_kidney, dtype: int64"
      ]
     },
     "execution_count": 9,
     "metadata": {},
     "output_type": "execute_result"
    }
   ],
   "source": [
    "df['cond_kidney'].value_counts()"
   ]
  },
  {
   "cell_type": "code",
   "execution_count": 10,
   "id": "5511cf8c-b890-4585-9900-a8a377352503",
   "metadata": {},
   "outputs": [
    {
     "data": {
      "text/plain": [
       "False    22632\n",
       "Name: cond_stroke, dtype: int64"
      ]
     },
     "execution_count": 10,
     "metadata": {},
     "output_type": "execute_result"
    }
   ],
   "source": [
    "df['cond_stroke'].value_counts()"
   ]
  },
  {
   "cell_type": "code",
   "execution_count": 11,
   "id": "3a0ba2d0-873d-4b85-9634-fa3590ca7b47",
   "metadata": {},
   "outputs": [
    {
     "data": {
      "text/plain": [
       "False    21924\n",
       "True       708\n",
       "Name: cond_sepsis, dtype: int64"
      ]
     },
     "execution_count": 11,
     "metadata": {},
     "output_type": "execute_result"
    }
   ],
   "source": [
    "df['cond_sepsis'].value_counts()"
   ]
  },
  {
   "cell_type": "code",
   "execution_count": 12,
   "id": "d0817171-d90a-48e2-ac0b-36cc28dcbe86",
   "metadata": {},
   "outputs": [
    {
     "data": {
      "text/plain": [
       "False    21845\n",
       "True       787\n",
       "Name: cond_cancer, dtype: int64"
      ]
     },
     "execution_count": 12,
     "metadata": {},
     "output_type": "execute_result"
    }
   ],
   "source": [
    "df['cond_cancer'].value_counts()"
   ]
  },
  {
   "cell_type": "code",
   "execution_count": 13,
   "id": "2f487c8a-1045-4b87-a4e1-fa8a914fa0e3",
   "metadata": {},
   "outputs": [
    {
     "data": {
      "text/plain": [
       "False    22590\n",
       "True        42\n",
       "Name: cond_asthma, dtype: int64"
      ]
     },
     "execution_count": 13,
     "metadata": {},
     "output_type": "execute_result"
    }
   ],
   "source": [
    "df['cond_asthma'].value_counts()"
   ]
  },
  {
   "cell_type": "code",
   "execution_count": null,
   "id": "0009275e-5585-41c1-92d0-94ee7c07b3a9",
   "metadata": {},
   "outputs": [],
   "source": []
  },
  {
   "cell_type": "code",
   "execution_count": null,
   "id": "c111ea01",
   "metadata": {},
   "outputs": [],
   "source": []
  }
 ],
 "metadata": {
  "kernelspec": {
   "display_name": "Python 3 (ipykernel)",
   "language": "python",
   "name": "python3"
  },
  "language_info": {
   "codemirror_mode": {
    "name": "ipython",
    "version": 3
   },
   "file_extension": ".py",
   "mimetype": "text/x-python",
   "name": "python",
   "nbconvert_exporter": "python",
   "pygments_lexer": "ipython3",
   "version": "3.8.10"
  }
 },
 "nbformat": 4,
 "nbformat_minor": 5
}
